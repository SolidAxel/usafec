{
 "cells": [
  {
   "cell_type": "markdown",
   "execution_count": null,
   "metadata": {},
   "outputs": [],
   "source": [
    "Created by Axel Garcia"
   ]
  },
  {
   "cell_type": "code",
   "execution_count": null,
   "metadata": {},
   "outputs": [],
   "source": [
    "import pandas as pd\n",
    "import glob"
   ]
  },
  {
   "cell_type": "markdown",
   "metadata": {},
   "source": [
    "Grabb merged .txt file containing all committee info. Remove unnecessary columns, we only need committee id and party columns. Additionally, drop all rows with NA."
   ]
  },
  {
   "cell_type": "code",
   "execution_count": null,
   "metadata": {},
   "outputs": [],
   "source": [
    "path = r'/Users/axelgarcia/Documents/CSE 184/usafec.nosync/Data/committees.csv' # use your path\n",
    "df = pd.read_csv(path, header=0, sep = \",\",error_bad_lines=False)\n",
    "cols = [1,2,3,4,5,6,7,8,9,11,12,13,14]\n",
    "df.drop(df.columns[cols],axis=1,inplace=True)\n",
    "df.dropna(inplace =True)\n",
    "df"
   ]
  },
  {
   "cell_type": "markdown",
   "metadata": {},
   "source": [
    "Remove all rows with unknown party affiliation"
   ]
  },
  {
   "cell_type": "code",
   "execution_count": null,
   "metadata": {},
   "outputs": [],
   "source": [
    "df = df[~df[\"10\"].str.contains(\"UNK\")]\n",
    "df"
   ]
  },
  {
   "cell_type": "markdown",
   "metadata": {},
   "source": [
    "Remove junk party affiliations."
   ]
  },
  {
   "cell_type": "code",
   "execution_count": null,
   "metadata": {},
   "outputs": [],
   "source": [
    "df = df[~df[\"10\"].str.contains('  0')]\n",
    "df = df[~df[\"10\"].str.contains('\\.')]"
   ]
  },
  {
   "cell_type": "markdown",
   "metadata": {},
   "source": [
    "Add column names."
   ]
  },
  {
   "cell_type": "code",
   "execution_count": null,
   "metadata": {},
   "outputs": [],
   "source": [
    "df.columns = ['cmte_id', 'party']"
   ]
  },
  {
   "cell_type": "code",
   "execution_count": null,
   "metadata": {},
   "outputs": [],
   "source": [
    "df"
   ]
  },
  {
   "cell_type": "markdown",
   "metadata": {},
   "source": [
    "Map known typos to correct values."
   ]
  },
  {
   "cell_type": "code",
   "execution_count": null,
   "metadata": {},
   "outputs": [],
   "source": [
    "replacement = {\n",
    "    \"Rep\": \"REP\",\n",
    "    \"r\": \"REP\",\n",
    "    \"R\": \"REP\",\n",
    "    \"GOP\": \"REP\",\n",
    "    \"rep\": \"REP\",\n",
    "    \"d\" : \"DEM\",\n",
    "    \"D\" : \"DEM\",\n",
    "    'dem' : \"DEM\",\n",
    "    'Dem' : 'DEM',\n",
    "    'NDP' : \"DEM\",\n",
    "    'N':\"NON\",\n",
    "    \"NPA\": \"NON\",\n",
    "    \"NOP\":\"NON\",\n",
    "    \"NNE\": \"NON\",\n",
    "}\n",
    "\n",
    "df = df.replace(replacement)"
   ]
  },
  {
   "cell_type": "markdown",
   "execution_count": null,
   "metadata": {},
   "outputs": [],
   "source": [
    "Finally, drop duplicates, keeping the latest party affiliation. Then save this data."
   ]
  },
  {
   "cell_type": "code",
   "execution_count": null,
   "metadata": {},
   "outputs": [],
   "source": [
    "df.drop_duplicates(subset='cmte_id', keep=\"last\",inplace =True)"
   ]
  },
  {
   "cell_type": "code",
   "execution_count": null,
   "metadata": {},
   "outputs": [],
   "source": [
    "df.to_csv('/Users/axelgarcia/Documents/CSE 184/usafec.nosync/Data/cleanCommittees.csv', index=False)"
   ]
  }
 ],
 "metadata": {
  "kernelspec": {
   "display_name": "Python 3",
   "language": "python",
   "name": "python3"
  },
  "language_info": {
   "codemirror_mode": {
    "name": "ipython",
    "version": 3
   },
   "file_extension": ".py",
   "mimetype": "text/x-python",
   "name": "python",
   "nbconvert_exporter": "python",
   "pygments_lexer": "ipython3",
   "version": "3.7.4"
  }
 },
 "nbformat": 4,
 "nbformat_minor": 2
}