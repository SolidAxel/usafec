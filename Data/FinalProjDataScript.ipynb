{
 "cells": [
  {
   "cell_type": "code",
   "execution_count": 1,
   "metadata": {},
   "outputs": [],
   "source": [
    "import pandas as pd\n",
    "import numpy as np"
   ]
  },
  {
   "cell_type": "code",
   "execution_count": 2,
   "metadata": {},
   "outputs": [],
   "source": [
    "# Scans through the CSV chunk by chunk (where a chunk is 10000 rows),\n",
    "# appending data points with the correct year to another array\n",
    "\n",
    "# Once it is done reading all the data point for a given year,\n",
    "# a DataFrame with the desired information is returned\n",
    "def getOneYearData(filename, year):\n",
    "    oneYearData = []\n",
    "    row_count = 10000\n",
    "    foundYear = False\n",
    "    \n",
    "    for chunk in pd.read_csv(filename, chunksize=row_count):\n",
    "        for ind in chunk.index:\n",
    "            if chunk['year'][ind] == np.int64(year):\n",
    "                oneYearData.append(chunk.loc[ind])\n",
    "                foundYear = True\n",
    "            else:\n",
    "                if foundYear is True:\n",
    "                    df = pd.DataFrame(oneYearData)\n",
    "                    print(len(df.index))\n",
    "                    return df"
   ]
  },
  {
   "cell_type": "code",
   "execution_count": 3,
   "metadata": {},
   "outputs": [],
   "source": [
    "# Iterates through a list of years\n",
    "# and gets the data for each year,\n",
    "# returning a DataFrame\n",
    "def getMultipleYearData(filename, years):\n",
    "    multipleYearData = pd.DataFrame()\n",
    "    \n",
    "    for year in years:\n",
    "        newData = getOneYearData(filename, year)\n",
    "        multipleYearData = pd.concat([multipleYearData, newData], axis=0)\n",
    "    \n",
    "    print(len(multipleYearData.index))\n",
    "    return multipleYearData"
   ]
  },
  {
   "cell_type": "code",
   "execution_count": 4,
   "metadata": {},
   "outputs": [],
   "source": [
    "# Gets the total donations, as well as the\n",
    "# Republican and Democratic donations for each state\n",
    "def getStatsForCountry(data):\n",
    "    states = {\"AL\": [0,0,0], \n",
    "              \"AK\": [0,0,0], \n",
    "              \"AZ\": [0,0,0], \n",
    "              \"AR\": [0,0,0], \n",
    "              \"CA\": [0,0,0], \n",
    "              \"CO\": [0,0,0], \n",
    "              \"CT\": [0,0,0], \n",
    "              \"DE\": [0,0,0], \n",
    "              \"FL\": [0,0,0], \n",
    "              \"GA\": [0,0,0], \n",
    "              \"HI\": [0,0,0], \n",
    "              \"ID\": [0,0,0], \n",
    "              \"IL\": [0,0,0], \n",
    "              \"IN\": [0,0,0], \n",
    "              \"IA\": [0,0,0], \n",
    "              \"KS\": [0,0,0], \n",
    "              \"KY\": [0,0,0], \n",
    "              \"LA\": [0,0,0], \n",
    "              \"ME\": [0,0,0], \n",
    "              \"MD\": [0,0,0], \n",
    "              \"MA\": [0,0,0], \n",
    "              \"MI\": [0,0,0], \n",
    "              \"MN\": [0,0,0], \n",
    "              \"MS\": [0,0,0], \n",
    "              \"MO\": [0,0,0], \n",
    "              \"MT\": [0,0,0], \n",
    "              \"NE\": [0,0,0], \n",
    "              \"NV\": [0,0,0], \n",
    "              \"NH\": [0,0,0], \n",
    "              \"NJ\": [0,0,0], \n",
    "              \"NM\": [0,0,0], \n",
    "              \"NY\": [0,0,0], \n",
    "              \"NC\": [0,0,0], \n",
    "              \"ND\": [0,0,0], \n",
    "              \"OH\": [0,0,0], \n",
    "              \"OK\": [0,0,0], \n",
    "              \"OR\": [0,0,0], \n",
    "              \"PA\": [0,0,0], \n",
    "              \"RI\": [0,0,0], \n",
    "              \"SC\": [0,0,0], \n",
    "              \"SD\": [0,0,0], \n",
    "              \"TN\": [0,0,0], \n",
    "              \"TX\": [0,0,0], \n",
    "              \"UT\": [0,0,0], \n",
    "              \"VT\": [0,0,0], \n",
    "              \"VA\": [0,0,0], \n",
    "              \"WA\": [0,0,0], \n",
    "              \"WV\": [0,0,0], \n",
    "              \"WI\": [0,0,0], \n",
    "              \"WY\": [0,0,0]}\n",
    "    \n",
    "    for ind in data.index:\n",
    "        if data['state'][ind] in states:\n",
    "            if data['party'][ind] == \"DEM\":\n",
    "                states[data['state'][ind]][0] += data['adjusted'][ind]\n",
    "            elif data['party'][ind] == \"REP\":\n",
    "                states[data['state'][ind]][1] += data['adjusted'][ind]\n",
    "\n",
    "            states[data['state'][ind]][2] += data['adjusted'][ind]\n",
    "    \n",
    "    return states"
   ]
  },
  {
   "cell_type": "code",
   "execution_count": 5,
   "metadata": {},
   "outputs": [],
   "source": [
    "# Prints the top X states with the highest donations,\n",
    "# and provides a breakdown of the party affiliation\n",
    "def printTopXStates(stats, x):\n",
    "    counter = 0\n",
    "\n",
    "    for key, value in sorted(stats.items(), key=lambda item: item[1][2], reverse=True):\n",
    "        percentDem = (value[0]/value[2])\n",
    "        percentRep = (value[1]/value[2])\n",
    "        percentInd = (1 - percentDem - percentRep)\n",
    "        \n",
    "        print(\"%s: %s dem, %s rep, %s independent\" % (key, str(percentDem), str(percentRep), str(percentInd)))\n",
    "        counter += 1\n",
    "        if counter >= x:\n",
    "            return"
   ]
  },
  {
   "cell_type": "code",
   "execution_count": 6,
   "metadata": {},
   "outputs": [],
   "source": [
    "# Given a set of year intervals in the form [[2000, 2004], [2005, 2009], ...],\n",
    "# returns the percentage of Republican, Democratic and Independent donations for each interval\n",
    "def findPartyTrends(yearIntervals):\n",
    "    states = {\"AL\": [], \n",
    "              \"AK\": [], \n",
    "              \"AZ\": [], \n",
    "              \"AR\": [], \n",
    "              \"CA\": [], \n",
    "              \"CO\": [], \n",
    "              \"CT\": [], \n",
    "              \"DE\": [], \n",
    "              \"FL\": [], \n",
    "              \"GA\": [], \n",
    "              \"HI\": [], \n",
    "              \"ID\": [], \n",
    "              \"IL\": [], \n",
    "              \"IN\": [], \n",
    "              \"IA\": [], \n",
    "              \"KS\": [], \n",
    "              \"KY\": [], \n",
    "              \"LA\": [], \n",
    "              \"ME\": [], \n",
    "              \"MD\": [], \n",
    "              \"MA\": [], \n",
    "              \"MI\": [], \n",
    "              \"MN\": [], \n",
    "              \"MS\": [], \n",
    "              \"MO\": [], \n",
    "              \"MT\": [], \n",
    "              \"NE\": [], \n",
    "              \"NV\": [], \n",
    "              \"NH\": [], \n",
    "              \"NJ\": [], \n",
    "              \"NM\": [], \n",
    "              \"NY\": [], \n",
    "              \"NC\": [], \n",
    "              \"ND\": [], \n",
    "              \"OH\": [], \n",
    "              \"OK\": [], \n",
    "              \"OR\": [], \n",
    "              \"PA\": [], \n",
    "              \"RI\": [], \n",
    "              \"SC\": [], \n",
    "              \"SD\": [], \n",
    "              \"TN\": [], \n",
    "              \"TX\": [], \n",
    "              \"UT\": [], \n",
    "              \"VT\": [], \n",
    "              \"VA\": [], \n",
    "              \"WA\": [], \n",
    "              \"WV\": [], \n",
    "              \"WI\": [], \n",
    "              \"WY\": []}\n",
    "    \n",
    "    for interval in yearIntervals:\n",
    "        data = getMultipleYearData(\"cleanDataWithPartiesInflation.csv\", interval)\n",
    "        stats = getStatsForCountry(data)\n",
    "        \n",
    "        for key, value in stats.items():\n",
    "            percentDem = (value[0]/value[2])\n",
    "            percentRep = (value[1]/value[2])\n",
    "            percentInd = (1 - percentDem - percentRep)\n",
    "            states[key].append([percentDem, percentRep, percentInd])\n",
    "    \n",
    "    return states"
   ]
  },
  {
   "cell_type": "code",
   "execution_count": 7,
   "metadata": {},
   "outputs": [
    {
     "name": "stdout",
     "output_type": "stream",
     "text": [
      "78268\n",
      "97002\n",
      "175270\n",
      "31860\n",
      "58516\n",
      "90376\n",
      "44697\n",
      "83398\n",
      "128095\n",
      "47701\n",
      "92658\n",
      "140359\n",
      "79320\n",
      "119447\n",
      "198767\n",
      "103535\n",
      "153292\n",
      "256827\n"
     ]
    }
   ],
   "source": [
    "yearIntervals = [[1979,1980], [1981,1982], [1983,1984], [1985,1986], [1987,1988], [1989,1990]]\n",
    "trends = findPartyTrends(yearIntervals)"
   ]
  },
  {
   "cell_type": "code",
   "execution_count": 8,
   "metadata": {
    "scrolled": true
   },
   "outputs": [
    {
     "name": "stdout",
     "output_type": "stream",
     "text": [
      "[0.1226514076505613, 0.27923463607814836, 0.2286131382715857, 0.2015343443840336, 0.340771230476843, 0.35591110616407806] [0.8676631612902076, 0.7095733287438584, 0.7607904615328943, 0.7928294650995784, 0.6524495080829585, 0.6351350447198542] [0.009685431059231142, 0.011192035177993276, 0.010596400195519995, 0.005636190516387973, 0.00677926144019847, 0.00895384911606778]\n"
     ]
    }
   ],
   "source": [
    "# Takes in a set of trend data and organizes\n",
    "# Republican, Democratic and Independent stats into their own arrays\n",
    "demTrend = []\n",
    "repTrend = []\n",
    "indTrend = []\n",
    "\n",
    "for data in trends['CO']:\n",
    "    demTrend.append(data[0])\n",
    "    repTrend.append(data[1])\n",
    "    indTrend.append(data[2])\n",
    "\n",
    "print(demTrend, repTrend, indTrend)"
   ]
  },
  {
   "cell_type": "code",
   "execution_count": 10,
   "metadata": {},
   "outputs": [
    {
     "data": {
      "image/png": "[encoded data removed]",
      "text/plain": [
       "<Figure size 432x288 with 1 Axes>"
      ]
     },
     "metadata": {
      "needs_background": "light"
     },
     "output_type": "display_data"
    }
   ],
   "source": [
    "import matplotlib.pyplot as plt\n",
    "\n",
    "# A plot of the party affiliation trends\n",
    "# for a single state from 1980-1990\n",
    "fig = plt.figure()\n",
    "ax1 = fig.add_subplot(111)\n",
    "ax1.xaxis.set_ticks(np.arange(1980, 1992, 2))\n",
    "\n",
    "ax1.plot([1980, 1982, 1984, 1986, 1988, 1990], demTrend, color='b', label=\"DEM\")\n",
    "ax1.plot([1980, 1982, 1984, 1986, 1988, 1990], repTrend, color='r', label='REP')\n",
    "ax1.plot([1980, 1982, 1984, 1986, 1988, 1990], indTrend, color='g', label='IND')\n",
    "\n",
    "plt.legend(loc='upper left')\n",
    "plt.show()"
   ]
  },
  {
   "cell_type": "code",
   "execution_count": null,
   "metadata": {},
   "outputs": [],
   "source": []
  }
 ],
 "metadata": {
  "kernelspec": {
   "display_name": "Python 3",
   "language": "python",
   "name": "python3"
  },
  "language_info": {
   "codemirror_mode": {
    "name": "ipython",
    "version": 3
   },
   "file_extension": ".py",
   "mimetype": "text/x-python",
   "name": "python",
   "nbconvert_exporter": "python",
   "pygments_lexer": "ipython3",
   "version": "3.7.4"
  }
 },
 "nbformat": 4,
 "nbformat_minor": 2
}
