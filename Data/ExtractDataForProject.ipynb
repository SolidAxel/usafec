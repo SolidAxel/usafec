{
 "cells": [
  {
   "cell_type": "code",
   "execution_count": 962,
   "metadata": {},
   "outputs": [],
   "source": [
    "#This file was created by Ralph Brekan\n",
    "from nose.tools import assert_equal, assert_true, assert_false\n",
    "import numpy as np\n",
    "import matplotlib.pyplot as plt\n",
    "import pandas as pd\n",
    "\n",
    "# We check that you are running Python 3.  You need to use Python 3.\n",
    "import sys\n",
    "assert_equal(sys.version_info.major, 3)"
   ]
  },
  {
   "cell_type": "code",
   "execution_count": 1131,
   "metadata": {},
   "outputs": [
    {
     "data": {
      "text/html": [
       "<div>\n",
       "<style scoped>\n",
       "    .dataframe tbody tr th:only-of-type {\n",
       "        vertical-align: middle;\n",
       "    }\n",
       "\n",
       "    .dataframe tbody tr th {\n",
       "        vertical-align: top;\n",
       "    }\n",
       "\n",
       "    .dataframe thead th {\n",
       "        text-align: right;\n",
       "    }\n",
       "</style>\n",
       "<table border=\"1\" class=\"dataframe\">\n",
       "  <thead>\n",
       "    <tr style=\"text-align: right;\">\n",
       "      <th></th>\n",
       "      <th>cmte_id</th>\n",
       "      <th>state</th>\n",
       "      <th>employer</th>\n",
       "      <th>year</th>\n",
       "      <th>amount</th>\n",
       "      <th>party</th>\n",
       "      <th>adjusted</th>\n",
       "    </tr>\n",
       "  </thead>\n",
       "  <tbody>\n",
       "    <tr>\n",
       "      <th>0</th>\n",
       "      <td>C00458828</td>\n",
       "      <td>IL</td>\n",
       "      <td>COMMUNITY CARE SYSTEM, INC.</td>\n",
       "      <td>2019</td>\n",
       "      <td>900</td>\n",
       "      <td>REP</td>\n",
       "      <td>899.999999</td>\n",
       "    </tr>\n",
       "    <tr>\n",
       "      <th>1</th>\n",
       "      <td>C00458828</td>\n",
       "      <td>NC</td>\n",
       "      <td>LEASING SERVICES II, INC</td>\n",
       "      <td>2019</td>\n",
       "      <td>5600</td>\n",
       "      <td>REP</td>\n",
       "      <td>5599.999993</td>\n",
       "    </tr>\n",
       "    <tr>\n",
       "      <th>2</th>\n",
       "      <td>C00458828</td>\n",
       "      <td>SC</td>\n",
       "      <td>HOMEMAKER</td>\n",
       "      <td>2019</td>\n",
       "      <td>2800</td>\n",
       "      <td>REP</td>\n",
       "      <td>2799.999997</td>\n",
       "    </tr>\n",
       "    <tr>\n",
       "      <th>3</th>\n",
       "      <td>C00458828</td>\n",
       "      <td>SC</td>\n",
       "      <td>HOMEMAKER</td>\n",
       "      <td>2019</td>\n",
       "      <td>-2800</td>\n",
       "      <td>REP</td>\n",
       "      <td>-2799.999997</td>\n",
       "    </tr>\n",
       "    <tr>\n",
       "      <th>4</th>\n",
       "      <td>C00458828</td>\n",
       "      <td>SC</td>\n",
       "      <td>HOMEMAKER</td>\n",
       "      <td>2019</td>\n",
       "      <td>3100</td>\n",
       "      <td>REP</td>\n",
       "      <td>3099.999996</td>\n",
       "    </tr>\n",
       "    <tr>\n",
       "      <th>...</th>\n",
       "      <td>...</td>\n",
       "      <td>...</td>\n",
       "      <td>...</td>\n",
       "      <td>...</td>\n",
       "      <td>...</td>\n",
       "      <td>...</td>\n",
       "      <td>...</td>\n",
       "    </tr>\n",
       "    <tr>\n",
       "      <th>2739650</th>\n",
       "      <td>C00694455</td>\n",
       "      <td>DC</td>\n",
       "      <td>THE CALPRO GROUP</td>\n",
       "      <td>2019</td>\n",
       "      <td>200</td>\n",
       "      <td>DEM</td>\n",
       "      <td>200.000000</td>\n",
       "    </tr>\n",
       "    <tr>\n",
       "      <th>2739651</th>\n",
       "      <td>C00694455</td>\n",
       "      <td>WA</td>\n",
       "      <td>SELF-EMPLOYED</td>\n",
       "      <td>2019</td>\n",
       "      <td>100</td>\n",
       "      <td>DEM</td>\n",
       "      <td>100.000000</td>\n",
       "    </tr>\n",
       "    <tr>\n",
       "      <th>2739652</th>\n",
       "      <td>C00694455</td>\n",
       "      <td>CA</td>\n",
       "      <td>SELF-EMPLOYED</td>\n",
       "      <td>2019</td>\n",
       "      <td>2800</td>\n",
       "      <td>DEM</td>\n",
       "      <td>2799.999997</td>\n",
       "    </tr>\n",
       "    <tr>\n",
       "      <th>2739653</th>\n",
       "      <td>C00694455</td>\n",
       "      <td>CA</td>\n",
       "      <td>IT'S A WRAPPER! FILMS</td>\n",
       "      <td>2019</td>\n",
       "      <td>2800</td>\n",
       "      <td>DEM</td>\n",
       "      <td>2799.999997</td>\n",
       "    </tr>\n",
       "    <tr>\n",
       "      <th>2739654</th>\n",
       "      <td>C00702340</td>\n",
       "      <td>TX</td>\n",
       "      <td>SELF</td>\n",
       "      <td>2019</td>\n",
       "      <td>25</td>\n",
       "      <td>IND</td>\n",
       "      <td>25.000000</td>\n",
       "    </tr>\n",
       "  </tbody>\n",
       "</table>\n",
       "<p>2739655 rows × 7 columns</p>\n",
       "</div>"
      ],
      "text/plain": [
       "           cmte_id state                     employer  year  amount party  \\\n",
       "0        C00458828    IL  COMMUNITY CARE SYSTEM, INC.  2019     900   REP   \n",
       "1        C00458828    NC     LEASING SERVICES II, INC  2019    5600   REP   \n",
       "2        C00458828    SC                    HOMEMAKER  2019    2800   REP   \n",
       "3        C00458828    SC                    HOMEMAKER  2019   -2800   REP   \n",
       "4        C00458828    SC                    HOMEMAKER  2019    3100   REP   \n",
       "...            ...   ...                          ...   ...     ...   ...   \n",
       "2739650  C00694455    DC             THE CALPRO GROUP  2019     200   DEM   \n",
       "2739651  C00694455    WA                SELF-EMPLOYED  2019     100   DEM   \n",
       "2739652  C00694455    CA                SELF-EMPLOYED  2019    2800   DEM   \n",
       "2739653  C00694455    CA        IT'S A WRAPPER! FILMS  2019    2800   DEM   \n",
       "2739654  C00702340    TX                         SELF  2019      25   IND   \n",
       "\n",
       "            adjusted  \n",
       "0         899.999999  \n",
       "1        5599.999993  \n",
       "2        2799.999997  \n",
       "3       -2799.999997  \n",
       "4        3099.999996  \n",
       "...              ...  \n",
       "2739650   200.000000  \n",
       "2739651   100.000000  \n",
       "2739652  2799.999997  \n",
       "2739653  2799.999997  \n",
       "2739654    25.000000  \n",
       "\n",
       "[2739655 rows x 7 columns]"
      ]
     },
     "execution_count": 1131,
     "metadata": {},
     "output_type": "execute_result"
    }
   ],
   "source": [
    "# Reads data from each of the yearly CSV files. \n",
    "# I put one in at a time and extracted the data.\n",
    "data = pd.read_csv('data2020.csv')\n",
    "data"
   ]
  },
  {
   "cell_type": "code",
   "execution_count": 1132,
   "metadata": {},
   "outputs": [
    {
     "name": "stdout",
     "output_type": "stream",
     "text": [
      "Total Dem: $469019941.44\n",
      "Total Rep: $235003566.72\n"
     ]
    }
   ],
   "source": [
    "# Gets the total rep and dem donations across all states.\n",
    "dem = data.loc[data['party'] == 'DEM']\n",
    "rep = data.loc[data['party'] == 'REP']\n",
    "totalDem = round(dem['adjusted'].sum(skipna = True),2)\n",
    "totalRep = round(rep['adjusted'].sum(skipna = True),2)\n",
    "print('Total Dem: $' + str(totalDem))\n",
    "print('Total Rep: $' + str(totalRep))"
   ]
  },
  {
   "cell_type": "code",
   "execution_count": 1133,
   "metadata": {},
   "outputs": [],
   "source": [
    "#Get all of the state data separated.\n",
    "NY = data.loc[data['state'] == 'NY']\n",
    "AL = data.loc[data['state'] == 'AL']\n",
    "AK = data.loc[data['state'] == 'AK']\n",
    "AZ = data.loc[data['state'] == 'AZ']\n",
    "AR = data.loc[data['state'] == 'AR']\n",
    "CA = data.loc[data['state'] == 'CA']\n",
    "CO = data.loc[data['state'] == 'CO']\n",
    "CT = data.loc[data['state'] == 'CT']\n",
    "DE = data.loc[data['state'] == 'DE']\n",
    "FL = data.loc[data['state'] == 'FL']\n",
    "GA = data.loc[data['state'] == 'GA']\n",
    "HI = data.loc[data['state'] == 'HI']\n",
    "ID = data.loc[data['state'] == 'ID']\n",
    "IL = data.loc[data['state'] == 'IL']\n",
    "IN = data.loc[data['state'] == 'IN']\n",
    "IA = data.loc[data['state'] == 'IA']\n",
    "KS = data.loc[data['state'] == 'KS']\n",
    "KY = data.loc[data['state'] == 'KY']\n",
    "LA = data.loc[data['state'] == 'LA']\n",
    "ME = data.loc[data['state'] == 'ME']\n",
    "MD = data.loc[data['state'] == 'MD']\n",
    "MA = data.loc[data['state'] == 'MA']\n",
    "MI = data.loc[data['state'] == 'MI']\n",
    "MN = data.loc[data['state'] == 'MN']\n",
    "MS = data.loc[data['state'] == 'MS']\n",
    "MO = data.loc[data['state'] == 'MO']\n",
    "MT = data.loc[data['state'] == 'MT']\n",
    "NE = data.loc[data['state'] == 'NE']\n",
    "NV = data.loc[data['state'] == 'NV']\n",
    "NH = data.loc[data['state'] == 'NH']\n",
    "NJ = data.loc[data['state'] == 'NJ']\n",
    "NM = data.loc[data['state'] == 'NM']\n",
    "NC = data.loc[data['state'] == 'NC']\n",
    "ND = data.loc[data['state'] == 'ND']\n",
    "OH = data.loc[data['state'] == 'OH']\n",
    "OK = data.loc[data['state'] == 'OK']\n",
    "OR = data.loc[data['state'] == 'OR']\n",
    "PA = data.loc[data['state'] == 'PA']\n",
    "RI = data.loc[data['state'] == 'RI']\n",
    "SC = data.loc[data['state'] == 'SC']\n",
    "SD = data.loc[data['state'] == 'SD']\n",
    "TN = data.loc[data['state'] == 'TN']\n",
    "TX = data.loc[data['state'] == 'TX']\n",
    "UT = data.loc[data['state'] == 'UT']\n",
    "VT = data.loc[data['state'] == 'VT']\n",
    "VA = data.loc[data['state'] == 'VA']\n",
    "WA = data.loc[data['state'] == 'WA']\n",
    "WV = data.loc[data['state'] == 'WV']\n",
    "WI = data.loc[data['state'] == 'WI']\n",
    "WY = data.loc[data['state'] == 'WY']"
   ]
  },
  {
   "cell_type": "code",
   "execution_count": 1134,
   "metadata": {},
   "outputs": [
    {
     "data": {
      "text/plain": [
       "163611900.8"
      ]
     },
     "execution_count": 1134,
     "metadata": {},
     "output_type": "execute_result"
    }
   ],
   "source": [
    "# This calculates the maximum input a among all of the states.\n",
    "maximum = max(round(NY['adjusted'].sum(skipna = True),2),\n",
    "round(AL['adjusted'].sum(skipna = True),2),\n",
    "round(AK['adjusted'].sum(skipna = True),2),\n",
    "round(AZ['adjusted'].sum(skipna = True),2),\n",
    "round(AR['adjusted'].sum(skipna = True),2),\n",
    "round(CA['adjusted'].sum(skipna = True),2),\n",
    "round(CO['adjusted'].sum(skipna = True),2),\n",
    "round(CT['adjusted'].sum(skipna = True),2),\n",
    "round(DE['adjusted'].sum(skipna = True),2),\n",
    "round(FL['adjusted'].sum(skipna = True),2),\n",
    "round(GA['adjusted'].sum(skipna = True),2),\n",
    "round(HI['adjusted'].sum(skipna = True),2),\n",
    "round(ID['adjusted'].sum(skipna = True),2),\n",
    "round(IL['adjusted'].sum(skipna = True),2),\n",
    "round(IN['adjusted'].sum(skipna = True),2),\n",
    "round(IA['adjusted'].sum(skipna = True),2),\n",
    "round(KS['adjusted'].sum(skipna = True),2),\n",
    "round(KY['adjusted'].sum(skipna = True),2),\n",
    "round(LA['adjusted'].sum(skipna = True),2),\n",
    "round(ME['adjusted'].sum(skipna = True),2),\n",
    "round(MD['adjusted'].sum(skipna = True),2),\n",
    "round(MA['adjusted'].sum(skipna = True),2),\n",
    "round(MI['adjusted'].sum(skipna = True),2),\n",
    "round(MN['adjusted'].sum(skipna = True),2),\n",
    "round(MS['adjusted'].sum(skipna = True),2),\n",
    "round(MO['adjusted'].sum(skipna = True),2),\n",
    "round(MT['adjusted'].sum(skipna = True),2),\n",
    "round(NE['adjusted'].sum(skipna = True),2),\n",
    "round(NV['adjusted'].sum(skipna = True),2),\n",
    "round(NH['adjusted'].sum(skipna = True),2),\n",
    "round(NJ['adjusted'].sum(skipna = True),2),\n",
    "round(NM['adjusted'].sum(skipna = True),2),\n",
    "round(NC['adjusted'].sum(skipna = True),2),\n",
    "round(ND['adjusted'].sum(skipna = True),2),\n",
    "round(OH['adjusted'].sum(skipna = True),2),\n",
    "round(OK['adjusted'].sum(skipna = True),2),\n",
    "round(OR['adjusted'].sum(skipna = True),2),\n",
    "round(PA['adjusted'].sum(skipna = True),2),\n",
    "round(RI['adjusted'].sum(skipna = True),2),\n",
    "round(SC['adjusted'].sum(skipna = True),2),\n",
    "round(SD['adjusted'].sum(skipna = True),2),\n",
    "round(TN['adjusted'].sum(skipna = True),2),\n",
    "round(TX['adjusted'].sum(skipna = True),2),\n",
    "round(UT['adjusted'].sum(skipna = True),2),\n",
    "round(VT['adjusted'].sum(skipna = True),2),\n",
    "round(VA['adjusted'].sum(skipna = True),2),\n",
    "round(WA['adjusted'].sum(skipna = True),2),\n",
    "round(WV['adjusted'].sum(skipna = True),2),\n",
    "round(WI['adjusted'].sum(skipna = True),2),\n",
    "round(WY['adjusted'].sum(skipna = True),2))\n",
    "maximum"
   ]
  },
  {
   "cell_type": "code",
   "execution_count": 1135,
   "metadata": {},
   "outputs": [],
   "source": [
    "# Gets the total number of democratic donations per state.\n",
    "NYdem = round(NY.loc[NY['party'] == 'DEM']['adjusted'].sum(skipna = True), 2)\n",
    "ALdem = round(AL.loc[AL['party'] == 'DEM']['adjusted'].sum(skipna = True), 2)\n",
    "AKdem = round(AK.loc[AK['party'] == 'DEM']['adjusted'].sum(skipna = True), 2)\n",
    "AZdem = round(AZ.loc[AZ['party'] == 'DEM']['adjusted'].sum(skipna = True), 2)\n",
    "ARdem = round(AR.loc[AR['party'] == 'DEM']['adjusted'].sum(skipna = True), 2)\n",
    "CAdem = round(CA.loc[CA['party'] == 'DEM']['adjusted'].sum(skipna = True), 2)\n",
    "COdem = round(CO.loc[CO['party'] == 'DEM']['adjusted'].sum(skipna = True), 2)\n",
    "CTdem = round(CT.loc[CT['party'] == 'DEM']['adjusted'].sum(skipna = True), 2)\n",
    "DEdem = round(DE.loc[DE['party'] == 'DEM']['adjusted'].sum(skipna = True), 2)\n",
    "FLdem = round(FL.loc[FL['party'] == 'DEM']['adjusted'].sum(skipna = True), 2)\n",
    "GAdem = round(GA.loc[GA['party'] == 'DEM']['adjusted'].sum(skipna = True), 2)\n",
    "HIdem = round(HI.loc[HI['party'] == 'DEM']['adjusted'].sum(skipna = True), 2)\n",
    "IDdem = round(ID.loc[ID['party'] == 'DEM']['adjusted'].sum(skipna = True), 2)\n",
    "ILdem = round(IL.loc[IL['party'] == 'DEM']['adjusted'].sum(skipna = True), 2)\n",
    "INdem = round(IN.loc[IN['party'] == 'DEM']['adjusted'].sum(skipna = True), 2)\n",
    "IAdem = round(IA.loc[IA['party'] == 'DEM']['adjusted'].sum(skipna = True), 2)\n",
    "KSdem = round(KS.loc[KS['party'] == 'DEM']['adjusted'].sum(skipna = True), 2)\n",
    "KYdem = round(KY.loc[KY['party'] == 'DEM']['adjusted'].sum(skipna = True), 2)\n",
    "LAdem = round(LA.loc[LA['party'] == 'DEM']['adjusted'].sum(skipna = True), 2)\n",
    "MEdem = round(ME.loc[ME['party'] == 'DEM']['adjusted'].sum(skipna = True), 2)\n",
    "MDdem = round(MD.loc[MD['party'] == 'DEM']['adjusted'].sum(skipna = True), 2)\n",
    "MAdem = round(MA.loc[MA['party'] == 'DEM']['adjusted'].sum(skipna = True), 2)\n",
    "MIdem = round(MI.loc[MI['party'] == 'DEM']['adjusted'].sum(skipna = True), 2)\n",
    "MNdem = round(MN.loc[MN['party'] == 'DEM']['adjusted'].sum(skipna = True), 2)\n",
    "MSdem = round(MS.loc[MS['party'] == 'DEM']['adjusted'].sum(skipna = True), 2)\n",
    "MOdem = round(MO.loc[MO['party'] == 'DEM']['adjusted'].sum(skipna = True), 2)\n",
    "MTdem = round(MT.loc[MT['party'] == 'DEM']['adjusted'].sum(skipna = True), 2)\n",
    "NEdem = round(NE.loc[NE['party'] == 'DEM']['adjusted'].sum(skipna = True), 2)\n",
    "NVdem = round(NV.loc[NV['party'] == 'DEM']['adjusted'].sum(skipna = True), 2)\n",
    "NHdem = round(NH.loc[NH['party'] == 'DEM']['adjusted'].sum(skipna = True), 2)\n",
    "NJdem = round(NJ.loc[NJ['party'] == 'DEM']['adjusted'].sum(skipna = True), 2)\n",
    "NMdem = round(NM.loc[NM['party'] == 'DEM']['adjusted'].sum(skipna = True), 2)\n",
    "NCdem = round(NC.loc[NC['party'] == 'DEM']['adjusted'].sum(skipna = True), 2)\n",
    "NDdem = round(ND.loc[ND['party'] == 'DEM']['adjusted'].sum(skipna = True), 2)\n",
    "OHdem = round(OH.loc[OH['party'] == 'DEM']['adjusted'].sum(skipna = True), 2)\n",
    "OKdem = round(OK.loc[OK['party'] == 'DEM']['adjusted'].sum(skipna = True), 2)\n",
    "ORdem = round(OR.loc[OR['party'] == 'DEM']['adjusted'].sum(skipna = True), 2)\n",
    "PAdem = round(PA.loc[PA['party'] == 'DEM']['adjusted'].sum(skipna = True), 2)\n",
    "RIdem = round(RI.loc[RI['party'] == 'DEM']['adjusted'].sum(skipna = True), 2)\n",
    "SCdem = round(SC.loc[SC['party'] == 'DEM']['adjusted'].sum(skipna = True), 2)\n",
    "SDdem = round(SD.loc[SD['party'] == 'DEM']['adjusted'].sum(skipna = True), 2)\n",
    "TNdem = round(TN.loc[TN['party'] == 'DEM']['adjusted'].sum(skipna = True), 2)\n",
    "TXdem = round(TX.loc[TX['party'] == 'DEM']['adjusted'].sum(skipna = True), 2)\n",
    "UTdem = round(UT.loc[UT['party'] == 'DEM']['adjusted'].sum(skipna = True), 2)\n",
    "VTdem = round(VT.loc[VT['party'] == 'DEM']['adjusted'].sum(skipna = True), 2)\n",
    "VAdem = round(VA.loc[VA['party'] == 'DEM']['adjusted'].sum(skipna = True), 2)\n",
    "WAdem = round(WA.loc[WA['party'] == 'DEM']['adjusted'].sum(skipna = True), 2)\n",
    "WVdem = round(WV.loc[WV['party'] == 'DEM']['adjusted'].sum(skipna = True), 2)\n",
    "WIdem = round(WI.loc[WI['party'] == 'DEM']['adjusted'].sum(skipna = True), 2)\n",
    "WYdem = round(WY.loc[WY['party'] == 'DEM']['adjusted'].sum(skipna = True), 2)"
   ]
  },
  {
   "cell_type": "code",
   "execution_count": 1136,
   "metadata": {},
   "outputs": [],
   "source": [
    "# Gets the total number of republican contributions per state\n",
    "NYrep = round(NY.loc[NY['party'] == 'REP']['adjusted'].sum(skipna = True), 2)\n",
    "ALrep = round(AL.loc[AL['party'] == 'REP']['adjusted'].sum(skipna = True), 2)\n",
    "AKrep = round(AK.loc[AK['party'] == 'REP']['adjusted'].sum(skipna = True), 2)\n",
    "AZrep = round(AZ.loc[AZ['party'] == 'REP']['adjusted'].sum(skipna = True), 2)\n",
    "ARrep = round(AR.loc[AR['party'] == 'REP']['adjusted'].sum(skipna = True), 2)\n",
    "CArep = round(CA.loc[CA['party'] == 'REP']['adjusted'].sum(skipna = True), 2)\n",
    "COrep = round(CO.loc[CO['party'] == 'REP']['adjusted'].sum(skipna = True), 2)\n",
    "CTrep = round(CT.loc[CT['party'] == 'REP']['adjusted'].sum(skipna = True), 2)\n",
    "DErep = round(DE.loc[DE['party'] == 'REP']['adjusted'].sum(skipna = True), 2)\n",
    "FLrep = round(FL.loc[FL['party'] == 'REP']['adjusted'].sum(skipna = True), 2)\n",
    "GArep = round(GA.loc[GA['party'] == 'REP']['adjusted'].sum(skipna = True), 2)\n",
    "HIrep = round(HI.loc[HI['party'] == 'REP']['adjusted'].sum(skipna = True), 2)\n",
    "IDrep = round(ID.loc[ID['party'] == 'REP']['adjusted'].sum(skipna = True), 2)\n",
    "ILrep = round(IL.loc[IL['party'] == 'REP']['adjusted'].sum(skipna = True), 2)\n",
    "INrep = round(IN.loc[IN['party'] == 'REP']['adjusted'].sum(skipna = True), 2)\n",
    "IArep = round(IA.loc[IA['party'] == 'REP']['adjusted'].sum(skipna = True), 2)\n",
    "KSrep = round(KS.loc[KS['party'] == 'REP']['adjusted'].sum(skipna = True), 2)\n",
    "KYrep = round(KY.loc[KY['party'] == 'REP']['adjusted'].sum(skipna = True), 2)\n",
    "LArep = round(LA.loc[LA['party'] == 'REP']['adjusted'].sum(skipna = True), 2)\n",
    "MErep = round(ME.loc[ME['party'] == 'REP']['adjusted'].sum(skipna = True), 2)\n",
    "MDrep = round(MD.loc[MD['party'] == 'REP']['adjusted'].sum(skipna = True), 2)\n",
    "MArep = round(MA.loc[MA['party'] == 'REP']['adjusted'].sum(skipna = True), 2)\n",
    "MIrep = round(MI.loc[MI['party'] == 'REP']['adjusted'].sum(skipna = True), 2)\n",
    "MNrep = round(MN.loc[MN['party'] == 'REP']['adjusted'].sum(skipna = True), 2)\n",
    "MSrep = round(MS.loc[MS['party'] == 'REP']['adjusted'].sum(skipna = True), 2)\n",
    "MOrep = round(MO.loc[MO['party'] == 'REP']['adjusted'].sum(skipna = True), 2)\n",
    "MTrep = round(MT.loc[MT['party'] == 'REP']['adjusted'].sum(skipna = True), 2)\n",
    "NErep = round(NE.loc[NE['party'] == 'REP']['adjusted'].sum(skipna = True), 2)\n",
    "NVrep = round(NV.loc[NV['party'] == 'REP']['adjusted'].sum(skipna = True), 2)\n",
    "NHrep = round(NH.loc[NH['party'] == 'REP']['adjusted'].sum(skipna = True), 2)\n",
    "NJrep = round(NJ.loc[NJ['party'] == 'REP']['adjusted'].sum(skipna = True), 2)\n",
    "NMrep = round(NM.loc[NM['party'] == 'REP']['adjusted'].sum(skipna = True), 2)\n",
    "NCrep = round(NC.loc[NC['party'] == 'REP']['adjusted'].sum(skipna = True), 2)\n",
    "NDrep = round(ND.loc[ND['party'] == 'REP']['adjusted'].sum(skipna = True), 2)\n",
    "OHrep = round(OH.loc[OH['party'] == 'REP']['adjusted'].sum(skipna = True), 2)\n",
    "OKrep = round(OK.loc[OK['party'] == 'REP']['adjusted'].sum(skipna = True), 2)\n",
    "ORrep = round(OR.loc[OR['party'] == 'REP']['adjusted'].sum(skipna = True), 2)\n",
    "PArep = round(PA.loc[PA['party'] == 'REP']['adjusted'].sum(skipna = True), 2)\n",
    "RIrep = round(RI.loc[RI['party'] == 'REP']['adjusted'].sum(skipna = True), 2)\n",
    "SCrep = round(SC.loc[SC['party'] == 'REP']['adjusted'].sum(skipna = True), 2)\n",
    "SDrep = round(SD.loc[SD['party'] == 'REP']['adjusted'].sum(skipna = True), 2)\n",
    "TNrep = round(TN.loc[TN['party'] == 'REP']['adjusted'].sum(skipna = True), 2)\n",
    "TXrep = round(TX.loc[TX['party'] == 'REP']['adjusted'].sum(skipna = True), 2)\n",
    "UTrep = round(UT.loc[UT['party'] == 'REP']['adjusted'].sum(skipna = True), 2)\n",
    "VTrep = round(VT.loc[VT['party'] == 'REP']['adjusted'].sum(skipna = True), 2)\n",
    "VArep = round(VA.loc[VA['party'] == 'REP']['adjusted'].sum(skipna = True), 2)\n",
    "WArep = round(WA.loc[WA['party'] == 'REP']['adjusted'].sum(skipna = True), 2)\n",
    "WVrep = round(WV.loc[WV['party'] == 'REP']['adjusted'].sum(skipna = True), 2)\n",
    "WIrep = round(WI.loc[WI['party'] == 'REP']['adjusted'].sum(skipna = True), 2)\n",
    "WYrep = round(WY.loc[WY['party'] == 'REP']['adjusted'].sum(skipna = True), 2)"
   ]
  },
  {
   "cell_type": "code",
   "execution_count": 1137,
   "metadata": {},
   "outputs": [
    {
     "name": "stdout",
     "output_type": "stream",
     "text": [
      "14268600.98\n",
      "62236350.93\n"
     ]
    }
   ],
   "source": [
    "print(NYrep)\n",
    "print(NYdem)"
   ]
  },
  {
   "cell_type": "code",
   "execution_count": 1138,
   "metadata": {},
   "outputs": [
    {
     "name": "stdout",
     "output_type": "stream",
     "text": [
      "6581215.99\n",
      "1089740.0\n"
     ]
    }
   ],
   "source": [
    "print(ALrep)\n",
    "print(ALdem)"
   ]
  },
  {
   "cell_type": "code",
   "execution_count": 1139,
   "metadata": {},
   "outputs": [
    {
     "name": "stdout",
     "output_type": "stream",
     "text": [
      "788723.0\n",
      "411687.0\n"
     ]
    }
   ],
   "source": [
    "print(AKrep)\n",
    "print(AKdem)"
   ]
  },
  {
   "cell_type": "code",
   "execution_count": 1140,
   "metadata": {},
   "outputs": [
    {
     "name": "stdout",
     "output_type": "stream",
     "text": [
      "5596591.99\n",
      "5394828.99\n"
     ]
    }
   ],
   "source": [
    "print(AZrep)\n",
    "print(AZdem)"
   ]
  },
  {
   "cell_type": "code",
   "execution_count": 1141,
   "metadata": {},
   "outputs": [
    {
     "name": "stdout",
     "output_type": "stream",
     "text": [
      "3066800.0\n",
      "726238.0\n"
     ]
    }
   ],
   "source": [
    "print(ARrep)\n",
    "print(ARdem)"
   ]
  },
  {
   "cell_type": "code",
   "execution_count": 1142,
   "metadata": {},
   "outputs": [
    {
     "name": "stdout",
     "output_type": "stream",
     "text": [
      "26370024.97\n",
      "136253481.84\n"
     ]
    }
   ],
   "source": [
    "print(CArep)\n",
    "print(CAdem)"
   ]
  },
  {
   "cell_type": "code",
   "execution_count": 1143,
   "metadata": {},
   "outputs": [
    {
     "name": "stdout",
     "output_type": "stream",
     "text": [
      "4726698.99\n",
      "13142837.98\n"
     ]
    }
   ],
   "source": [
    "print(COrep)\n",
    "print(COdem)"
   ]
  },
  {
   "cell_type": "code",
   "execution_count": 1144,
   "metadata": {},
   "outputs": [
    {
     "name": "stdout",
     "output_type": "stream",
     "text": [
      "2372892.0\n",
      "6947612.99\n"
     ]
    }
   ],
   "source": [
    "print(CTrep)\n",
    "print(CTdem)"
   ]
  },
  {
   "cell_type": "code",
   "execution_count": 1145,
   "metadata": {},
   "outputs": [
    {
     "name": "stdout",
     "output_type": "stream",
     "text": [
      "322421.0\n",
      "1506852.0\n"
     ]
    }
   ],
   "source": [
    "print(DErep)\n",
    "print(DEdem)"
   ]
  },
  {
   "cell_type": "code",
   "execution_count": 1146,
   "metadata": {},
   "outputs": [
    {
     "name": "stdout",
     "output_type": "stream",
     "text": [
      "16932179.98\n",
      "19268968.98\n"
     ]
    }
   ],
   "source": [
    "print(FLrep)\n",
    "print(FLdem)"
   ]
  },
  {
   "cell_type": "code",
   "execution_count": 1147,
   "metadata": {},
   "outputs": [
    {
     "name": "stdout",
     "output_type": "stream",
     "text": [
      "9310304.99\n",
      "6310334.99\n"
     ]
    }
   ],
   "source": [
    "print(GArep)\n",
    "print(GAdem)"
   ]
  },
  {
   "cell_type": "code",
   "execution_count": 1148,
   "metadata": {},
   "outputs": [
    {
     "name": "stdout",
     "output_type": "stream",
     "text": [
      "398282.0\n",
      "1622549.0\n"
     ]
    }
   ],
   "source": [
    "print(HIrep)\n",
    "print(HIdem)"
   ]
  },
  {
   "cell_type": "code",
   "execution_count": 1149,
   "metadata": {},
   "outputs": [
    {
     "name": "stdout",
     "output_type": "stream",
     "text": [
      "571771.0\n",
      "781930.0\n"
     ]
    }
   ],
   "source": [
    "print(IDrep)\n",
    "print(IDdem)"
   ]
  },
  {
   "cell_type": "code",
   "execution_count": 1150,
   "metadata": {},
   "outputs": [
    {
     "name": "stdout",
     "output_type": "stream",
     "text": [
      "8025753.99\n",
      "17796167.98\n"
     ]
    }
   ],
   "source": [
    "print(ILrep)\n",
    "print(ILdem)"
   ]
  },
  {
   "cell_type": "code",
   "execution_count": 1151,
   "metadata": {},
   "outputs": [
    {
     "name": "stdout",
     "output_type": "stream",
     "text": [
      "2165110.0\n",
      "3611228.0\n"
     ]
    }
   ],
   "source": [
    "print(INrep)\n",
    "print(INdem)"
   ]
  },
  {
   "cell_type": "code",
   "execution_count": 1152,
   "metadata": {},
   "outputs": [
    {
     "name": "stdout",
     "output_type": "stream",
     "text": [
      "2837084.0\n",
      "3262693.0\n"
     ]
    }
   ],
   "source": [
    "print(IArep)\n",
    "print(IAdem)"
   ]
  },
  {
   "cell_type": "code",
   "execution_count": 1153,
   "metadata": {},
   "outputs": [
    {
     "name": "stdout",
     "output_type": "stream",
     "text": [
      "2002817.0\n",
      "1964591.0\n"
     ]
    }
   ],
   "source": [
    "print(KYrep)\n",
    "print(KYdem)"
   ]
  },
  {
   "cell_type": "code",
   "execution_count": 1154,
   "metadata": {},
   "outputs": [
    {
     "name": "stdout",
     "output_type": "stream",
     "text": [
      "3577600.0\n",
      "1419467.0\n"
     ]
    }
   ],
   "source": [
    "print(KSrep)\n",
    "print(KSdem)"
   ]
  },
  {
   "cell_type": "code",
   "execution_count": 1155,
   "metadata": {},
   "outputs": [
    {
     "name": "stdout",
     "output_type": "stream",
     "text": [
      "3716617.0\n",
      "1449942.0\n"
     ]
    }
   ],
   "source": [
    "print(LArep)\n",
    "print(LAdem)"
   ]
  },
  {
   "cell_type": "code",
   "execution_count": 1156,
   "metadata": {},
   "outputs": [
    {
     "name": "stdout",
     "output_type": "stream",
     "text": [
      "554283.0\n",
      "1948986.0\n"
     ]
    }
   ],
   "source": [
    "print(MErep)\n",
    "print(MEdem)"
   ]
  },
  {
   "cell_type": "code",
   "execution_count": 1157,
   "metadata": {},
   "outputs": [
    {
     "name": "stdout",
     "output_type": "stream",
     "text": [
      "3174877.0\n",
      "12400538.99\n"
     ]
    }
   ],
   "source": [
    "print(MDrep)\n",
    "print(MDdem)"
   ]
  },
  {
   "cell_type": "code",
   "execution_count": 1158,
   "metadata": {},
   "outputs": [
    {
     "name": "stdout",
     "output_type": "stream",
     "text": [
      "2743354.0\n",
      "23554542.97\n"
     ]
    }
   ],
   "source": [
    "print(MArep)\n",
    "print(MAdem)"
   ]
  },
  {
   "cell_type": "code",
   "execution_count": 1159,
   "metadata": {},
   "outputs": [
    {
     "name": "stdout",
     "output_type": "stream",
     "text": [
      "8156006.99\n",
      "8741125.99\n"
     ]
    }
   ],
   "source": [
    "print(MIrep)\n",
    "print(MIdem)"
   ]
  },
  {
   "cell_type": "code",
   "execution_count": 1160,
   "metadata": {},
   "outputs": [
    {
     "name": "stdout",
     "output_type": "stream",
     "text": [
      "2831110.0\n",
      "6124313.99\n"
     ]
    }
   ],
   "source": [
    "print(MNrep)\n",
    "print(MNdem)"
   ]
  },
  {
   "cell_type": "code",
   "execution_count": 1161,
   "metadata": {},
   "outputs": [
    {
     "name": "stdout",
     "output_type": "stream",
     "text": [
      "1362706.0\n",
      "347369.0\n"
     ]
    }
   ],
   "source": [
    "print(MSrep)\n",
    "print(MSdem)"
   ]
  },
  {
   "cell_type": "code",
   "execution_count": 1162,
   "metadata": {},
   "outputs": [
    {
     "name": "stdout",
     "output_type": "stream",
     "text": [
      "4466993.99\n",
      "2674772.0\n"
     ]
    }
   ],
   "source": [
    "print(MOrep)\n",
    "print(MOdem)"
   ]
  },
  {
   "cell_type": "code",
   "execution_count": 1163,
   "metadata": {},
   "outputs": [
    {
     "name": "stdout",
     "output_type": "stream",
     "text": [
      "1417080.0\n",
      "1320710.0\n"
     ]
    }
   ],
   "source": [
    "print(MTrep)\n",
    "print(MTdem)"
   ]
  },
  {
   "cell_type": "code",
   "execution_count": 1164,
   "metadata": {},
   "outputs": [
    {
     "name": "stdout",
     "output_type": "stream",
     "text": [
      "1240626.0\n",
      "693448.0\n"
     ]
    }
   ],
   "source": [
    "print(NErep)\n",
    "print(NEdem)"
   ]
  },
  {
   "cell_type": "code",
   "execution_count": 1165,
   "metadata": {},
   "outputs": [
    {
     "name": "stdout",
     "output_type": "stream",
     "text": [
      "3911622.0\n",
      "2945524.0\n"
     ]
    }
   ],
   "source": [
    "print(NVrep)\n",
    "print(NVdem)"
   ]
  },
  {
   "cell_type": "code",
   "execution_count": 1166,
   "metadata": {},
   "outputs": [
    {
     "name": "stdout",
     "output_type": "stream",
     "text": [
      "743742.0\n",
      "2116573.0\n"
     ]
    }
   ],
   "source": [
    "print(NHrep)\n",
    "print(NHdem)"
   ]
  },
  {
   "cell_type": "code",
   "execution_count": 1167,
   "metadata": {},
   "outputs": [
    {
     "name": "stdout",
     "output_type": "stream",
     "text": [
      "3978334.0\n",
      "12842652.98\n"
     ]
    }
   ],
   "source": [
    "print(NJrep)\n",
    "print(NJdem)"
   ]
  },
  {
   "cell_type": "code",
   "execution_count": 1168,
   "metadata": {},
   "outputs": [
    {
     "name": "stdout",
     "output_type": "stream",
     "text": [
      "1296768.0\n",
      "3275143.0\n"
     ]
    }
   ],
   "source": [
    "print(NMrep)\n",
    "print(NMdem)"
   ]
  },
  {
   "cell_type": "code",
   "execution_count": 1169,
   "metadata": {},
   "outputs": [
    {
     "name": "stdout",
     "output_type": "stream",
     "text": [
      "7723132.99\n",
      "6295620.99\n"
     ]
    }
   ],
   "source": [
    "print(NCrep)\n",
    "print(NCdem)"
   ]
  },
  {
   "cell_type": "code",
   "execution_count": 1170,
   "metadata": {},
   "outputs": [
    {
     "name": "stdout",
     "output_type": "stream",
     "text": [
      "378553.0\n",
      "159917.0\n"
     ]
    }
   ],
   "source": [
    "print(NDrep)\n",
    "print(NDdem)"
   ]
  },
  {
   "cell_type": "code",
   "execution_count": 1171,
   "metadata": {},
   "outputs": [
    {
     "name": "stdout",
     "output_type": "stream",
     "text": [
      "6151687.99\n",
      "3967584.0\n"
     ]
    }
   ],
   "source": [
    "print(OHrep)\n",
    "print(OHdem)"
   ]
  },
  {
   "cell_type": "code",
   "execution_count": 1172,
   "metadata": {},
   "outputs": [
    {
     "name": "stdout",
     "output_type": "stream",
     "text": [
      "3207087.0\n",
      "1616078.0\n"
     ]
    }
   ],
   "source": [
    "print(OKrep)\n",
    "print(OKdem)"
   ]
  },
  {
   "cell_type": "code",
   "execution_count": 1173,
   "metadata": {},
   "outputs": [
    {
     "name": "stdout",
     "output_type": "stream",
     "text": [
      "1322326.0\n",
      "4476948.99\n"
     ]
    }
   ],
   "source": [
    "print(ORrep)\n",
    "print(ORdem)"
   ]
  },
  {
   "cell_type": "code",
   "execution_count": 1174,
   "metadata": {},
   "outputs": [
    {
     "name": "stdout",
     "output_type": "stream",
     "text": [
      "5417791.99\n",
      "9526319.99\n"
     ]
    }
   ],
   "source": [
    "print(PArep)\n",
    "print(PAdem)"
   ]
  },
  {
   "cell_type": "code",
   "execution_count": 1175,
   "metadata": {},
   "outputs": [
    {
     "name": "stdout",
     "output_type": "stream",
     "text": [
      "252972.0\n",
      "1278620.0\n"
     ]
    }
   ],
   "source": [
    "print(RIrep)\n",
    "print(RIdem)"
   ]
  },
  {
   "cell_type": "code",
   "execution_count": 1176,
   "metadata": {},
   "outputs": [
    {
     "name": "stdout",
     "output_type": "stream",
     "text": [
      "2971671.0\n",
      "3052790.0\n"
     ]
    }
   ],
   "source": [
    "print(SCrep)\n",
    "print(SCdem)"
   ]
  },
  {
   "cell_type": "code",
   "execution_count": 1177,
   "metadata": {},
   "outputs": [
    {
     "name": "stdout",
     "output_type": "stream",
     "text": [
      "1007739.0\n",
      "213566.0\n"
     ]
    }
   ],
   "source": [
    "print(SDrep)\n",
    "print(SDdem)"
   ]
  },
  {
   "cell_type": "code",
   "execution_count": 1178,
   "metadata": {},
   "outputs": [
    {
     "name": "stdout",
     "output_type": "stream",
     "text": [
      "8179916.99\n",
      "3344399.0\n"
     ]
    }
   ],
   "source": [
    "print(TNrep)\n",
    "print(TNdem)"
   ]
  },
  {
   "cell_type": "code",
   "execution_count": 1179,
   "metadata": {},
   "outputs": [
    {
     "name": "stdout",
     "output_type": "stream",
     "text": [
      "26737005.97\n",
      "25301737.97\n"
     ]
    }
   ],
   "source": [
    "print(TXrep)\n",
    "print(TXdem)"
   ]
  },
  {
   "cell_type": "code",
   "execution_count": 1180,
   "metadata": {},
   "outputs": [
    {
     "name": "stdout",
     "output_type": "stream",
     "text": [
      "1659025.0\n",
      "1688989.0\n"
     ]
    }
   ],
   "source": [
    "print(UTrep)\n",
    "print(UTdem)"
   ]
  },
  {
   "cell_type": "code",
   "execution_count": 1181,
   "metadata": {},
   "outputs": [
    {
     "name": "stdout",
     "output_type": "stream",
     "text": [
      "192129.0\n",
      "953006.0\n"
     ]
    }
   ],
   "source": [
    "print(VTrep)\n",
    "print(VTdem)"
   ]
  },
  {
   "cell_type": "code",
   "execution_count": 1182,
   "metadata": {},
   "outputs": [
    {
     "name": "stdout",
     "output_type": "stream",
     "text": [
      "8129679.99\n",
      "12027508.99\n"
     ]
    }
   ],
   "source": [
    "print(VArep)\n",
    "print(VAdem)"
   ]
  },
  {
   "cell_type": "code",
   "execution_count": 1183,
   "metadata": {},
   "outputs": [
    {
     "name": "stdout",
     "output_type": "stream",
     "text": [
      "3580417.0\n",
      "14437620.98\n"
     ]
    }
   ],
   "source": [
    "print(WArep)\n",
    "print(WAdem)"
   ]
  },
  {
   "cell_type": "code",
   "execution_count": null,
   "metadata": {},
   "outputs": [],
   "source": []
  },
  {
   "cell_type": "code",
   "execution_count": 1184,
   "metadata": {},
   "outputs": [
    {
     "name": "stdout",
     "output_type": "stream",
     "text": [
      "666655.0\n",
      "257538.0\n"
     ]
    }
   ],
   "source": [
    "print(WVrep)\n",
    "print(WVdem)"
   ]
  },
  {
   "cell_type": "code",
   "execution_count": 1185,
   "metadata": {},
   "outputs": [
    {
     "name": "stdout",
     "output_type": "stream",
     "text": [
      "2895666.0\n",
      "2082988.0\n"
     ]
    }
   ],
   "source": [
    "print(WIrep)\n",
    "print(WIdem)"
   ]
  },
  {
   "cell_type": "code",
   "execution_count": 1186,
   "metadata": {},
   "outputs": [
    {
     "name": "stdout",
     "output_type": "stream",
     "text": [
      "894411.0\n",
      "501865.0\n"
     ]
    }
   ],
   "source": [
    "print(WYrep)\n",
    "print(WYdem)"
   ]
  },
  {
   "cell_type": "code",
   "execution_count": null,
   "metadata": {},
   "outputs": [],
   "source": []
  },
  {
   "cell_type": "code",
   "execution_count": null,
   "metadata": {},
   "outputs": [],
   "source": []
  },
  {
   "cell_type": "code",
   "execution_count": null,
   "metadata": {},
   "outputs": [],
   "source": []
  },
  {
   "cell_type": "code",
   "execution_count": null,
   "metadata": {},
   "outputs": [],
   "source": []
  }
 ],
 "metadata": {
  "kernelspec": {
   "display_name": "Python 3",
   "language": "python",
   "name": "python3"
  },
  "language_info": {
   "codemirror_mode": {
    "name": "ipython",
    "version": 3
   },
   "file_extension": ".py",
   "mimetype": "text/x-python",
   "name": "python",
   "nbconvert_exporter": "python",
   "pygments_lexer": "ipython3",
   "version": "3.7.4"
  }
 },
 "nbformat": 4,
 "nbformat_minor": 2
}
