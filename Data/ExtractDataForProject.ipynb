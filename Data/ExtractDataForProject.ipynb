{
 "cells": [
  {
   "cell_type": "code",
   "execution_count": 1,
   "metadata": {},
   "outputs": [],
   "source": [
    "#This file was created by Ralph Brekan\n",
    "from nose.tools import assert_equal, assert_true, assert_false\n",
    "import numpy as np\n",
    "import matplotlib.pyplot as plt\n",
    "import pandas as pd\n",
    "\n",
    "# We check that you are running Python 3.  You need to use Python 3.\n",
    "import sys\n",
    "assert_equal(sys.version_info.major, 3)"
   ]
  },
  {
   "cell_type": "markdown",
   "metadata": {},
   "source": [
    "Reads data from each of the yearly CSV files. \n",
    "\n",
    "I put one in at a time and extracted the data."
   ]
  },
  {
   "cell_type": "code",
   "execution_count": 75,
   "metadata": {},
   "outputs": [
    {
     "data": {
      "text/html": [
       "<div>\n",
       "<style scoped>\n",
       "    .dataframe tbody tr th:only-of-type {\n",
       "        vertical-align: middle;\n",
       "    }\n",
       "\n",
       "    .dataframe tbody tr th {\n",
       "        vertical-align: top;\n",
       "    }\n",
       "\n",
       "    .dataframe thead th {\n",
       "        text-align: right;\n",
       "    }\n",
       "</style>\n",
       "<table border=\"1\" class=\"dataframe\">\n",
       "  <thead>\n",
       "    <tr style=\"text-align: right;\">\n",
       "      <th></th>\n",
       "      <th>cmte_id</th>\n",
       "      <th>state</th>\n",
       "      <th>employer</th>\n",
       "      <th>year</th>\n",
       "      <th>amount</th>\n",
       "      <th>party</th>\n",
       "      <th>adjusted</th>\n",
       "    </tr>\n",
       "  </thead>\n",
       "  <tbody>\n",
       "    <tr>\n",
       "      <th>0</th>\n",
       "      <td>C00003418</td>\n",
       "      <td>OK</td>\n",
       "      <td>RICHARDSON RICHARDSON BOUDREAUX</td>\n",
       "      <td>2017</td>\n",
       "      <td>35</td>\n",
       "      <td>REP</td>\n",
       "      <td>35.854904</td>\n",
       "    </tr>\n",
       "    <tr>\n",
       "      <th>1</th>\n",
       "      <td>C00003418</td>\n",
       "      <td>GA</td>\n",
       "      <td>SELF-EMPLOYED</td>\n",
       "      <td>2017</td>\n",
       "      <td>500</td>\n",
       "      <td>REP</td>\n",
       "      <td>512.212916</td>\n",
       "    </tr>\n",
       "    <tr>\n",
       "      <th>2</th>\n",
       "      <td>C00003418</td>\n",
       "      <td>NJ</td>\n",
       "      <td>HOMEMAKER</td>\n",
       "      <td>2017</td>\n",
       "      <td>100</td>\n",
       "      <td>REP</td>\n",
       "      <td>102.442583</td>\n",
       "    </tr>\n",
       "    <tr>\n",
       "      <th>3</th>\n",
       "      <td>C00003418</td>\n",
       "      <td>VA</td>\n",
       "      <td>SELF-EMPLOYED</td>\n",
       "      <td>2017</td>\n",
       "      <td>250</td>\n",
       "      <td>REP</td>\n",
       "      <td>256.106458</td>\n",
       "    </tr>\n",
       "    <tr>\n",
       "      <th>4</th>\n",
       "      <td>C00003418</td>\n",
       "      <td>CA</td>\n",
       "      <td>UNIVERSITY OF LA VERNE</td>\n",
       "      <td>2017</td>\n",
       "      <td>40</td>\n",
       "      <td>REP</td>\n",
       "      <td>40.977033</td>\n",
       "    </tr>\n",
       "    <tr>\n",
       "      <th>...</th>\n",
       "      <td>...</td>\n",
       "      <td>...</td>\n",
       "      <td>...</td>\n",
       "      <td>...</td>\n",
       "      <td>...</td>\n",
       "      <td>...</td>\n",
       "      <td>...</td>\n",
       "    </tr>\n",
       "    <tr>\n",
       "      <th>6362448</th>\n",
       "      <td>C00196774</td>\n",
       "      <td>MA</td>\n",
       "      <td>NOT EMPLOYED</td>\n",
       "      <td>2018</td>\n",
       "      <td>15</td>\n",
       "      <td>DEM</td>\n",
       "      <td>15.000000</td>\n",
       "    </tr>\n",
       "    <tr>\n",
       "      <th>6362449</th>\n",
       "      <td>C00501197</td>\n",
       "      <td>DC</td>\n",
       "      <td>BRAILSFORD &amp; DUNLAVEY</td>\n",
       "      <td>2018</td>\n",
       "      <td>25</td>\n",
       "      <td>DEM</td>\n",
       "      <td>25.000000</td>\n",
       "    </tr>\n",
       "    <tr>\n",
       "      <th>6362450</th>\n",
       "      <td>C00196774</td>\n",
       "      <td>MA</td>\n",
       "      <td>NOT EMPLOYED</td>\n",
       "      <td>2018</td>\n",
       "      <td>5</td>\n",
       "      <td>DEM</td>\n",
       "      <td>5.000000</td>\n",
       "    </tr>\n",
       "    <tr>\n",
       "      <th>6362451</th>\n",
       "      <td>C00196774</td>\n",
       "      <td>MA</td>\n",
       "      <td>PDH CONSULTING</td>\n",
       "      <td>2018</td>\n",
       "      <td>10</td>\n",
       "      <td>DEM</td>\n",
       "      <td>10.000000</td>\n",
       "    </tr>\n",
       "    <tr>\n",
       "      <th>6362452</th>\n",
       "      <td>C00196774</td>\n",
       "      <td>MA</td>\n",
       "      <td>NOT EMPLOYED</td>\n",
       "      <td>2018</td>\n",
       "      <td>100</td>\n",
       "      <td>DEM</td>\n",
       "      <td>100.000000</td>\n",
       "    </tr>\n",
       "  </tbody>\n",
       "</table>\n",
       "<p>6362453 rows × 7 columns</p>\n",
       "</div>"
      ],
      "text/plain": [
       "           cmte_id state                         employer  year  amount party  \\\n",
       "0        C00003418    OK  RICHARDSON RICHARDSON BOUDREAUX  2017      35   REP   \n",
       "1        C00003418    GA                    SELF-EMPLOYED  2017     500   REP   \n",
       "2        C00003418    NJ                        HOMEMAKER  2017     100   REP   \n",
       "3        C00003418    VA                    SELF-EMPLOYED  2017     250   REP   \n",
       "4        C00003418    CA           UNIVERSITY OF LA VERNE  2017      40   REP   \n",
       "...            ...   ...                              ...   ...     ...   ...   \n",
       "6362448  C00196774    MA                     NOT EMPLOYED  2018      15   DEM   \n",
       "6362449  C00501197    DC            BRAILSFORD & DUNLAVEY  2018      25   DEM   \n",
       "6362450  C00196774    MA                     NOT EMPLOYED  2018       5   DEM   \n",
       "6362451  C00196774    MA                   PDH CONSULTING  2018      10   DEM   \n",
       "6362452  C00196774    MA                     NOT EMPLOYED  2018     100   DEM   \n",
       "\n",
       "           adjusted  \n",
       "0         35.854904  \n",
       "1        512.212916  \n",
       "2        102.442583  \n",
       "3        256.106458  \n",
       "4         40.977033  \n",
       "...             ...  \n",
       "6362448   15.000000  \n",
       "6362449   25.000000  \n",
       "6362450    5.000000  \n",
       "6362451   10.000000  \n",
       "6362452  100.000000  \n",
       "\n",
       "[6362453 rows x 7 columns]"
      ]
     },
     "execution_count": 75,
     "metadata": {},
     "output_type": "execute_result"
    }
   ],
   "source": [
    "data = pd.read_csv('data2018.csv')\n",
    "data"
   ]
  },
  {
   "cell_type": "markdown",
   "metadata": {},
   "source": [
    "Gets the total rep and dem donations across all states."
   ]
  },
  {
   "cell_type": "code",
   "execution_count": 1132,
   "metadata": {},
   "outputs": [
    {
     "name": "stdout",
     "output_type": "stream",
     "text": [
      "Total Dem: $469019941.44\n",
      "Total Rep: $235003566.72\n"
     ]
    }
   ],
   "source": [
    "dem = data.loc[data['party'] == 'DEM']\n",
    "rep = data.loc[data['party'] == 'REP']\n",
    "totalDem = round(dem['adjusted'].sum(skipna = True),2)\n",
    "totalRep = round(rep['adjusted'].sum(skipna = True),2)\n",
    "print('Total Dem: $' + str(totalDem))\n",
    "print('Total Rep: $' + str(totalRep))"
   ]
  },
  {
   "cell_type": "markdown",
   "metadata": {},
   "source": [
    "Get all of the state data separated."
   ]
  },
  {
   "cell_type": "code",
   "execution_count": 76,
   "metadata": {},
   "outputs": [],
   "source": [
    "NY = data.loc[data['state'] == 'NY']\n",
    "AL = data.loc[data['state'] == 'AL']\n",
    "AK = data.loc[data['state'] == 'AK']\n",
    "AZ = data.loc[data['state'] == 'AZ']\n",
    "AR = data.loc[data['state'] == 'AR']\n",
    "CA = data.loc[data['state'] == 'CA']\n",
    "CO = data.loc[data['state'] == 'CO']\n",
    "CT = data.loc[data['state'] == 'CT']\n",
    "DE = data.loc[data['state'] == 'DE']\n",
    "FL = data.loc[data['state'] == 'FL']\n",
    "GA = data.loc[data['state'] == 'GA']\n",
    "HI = data.loc[data['state'] == 'HI']\n",
    "ID = data.loc[data['state'] == 'ID']\n",
    "IL = data.loc[data['state'] == 'IL']\n",
    "IN = data.loc[data['state'] == 'IN']\n",
    "IA = data.loc[data['state'] == 'IA']\n",
    "KS = data.loc[data['state'] == 'KS']\n",
    "KY = data.loc[data['state'] == 'KY']\n",
    "LA = data.loc[data['state'] == 'LA']\n",
    "ME = data.loc[data['state'] == 'ME']\n",
    "MD = data.loc[data['state'] == 'MD']\n",
    "MA = data.loc[data['state'] == 'MA']\n",
    "MI = data.loc[data['state'] == 'MI']\n",
    "MN = data.loc[data['state'] == 'MN']\n",
    "MS = data.loc[data['state'] == 'MS']\n",
    "MO = data.loc[data['state'] == 'MO']\n",
    "MT = data.loc[data['state'] == 'MT']\n",
    "NE = data.loc[data['state'] == 'NE']\n",
    "NV = data.loc[data['state'] == 'NV']\n",
    "NH = data.loc[data['state'] == 'NH']\n",
    "NJ = data.loc[data['state'] == 'NJ']\n",
    "NM = data.loc[data['state'] == 'NM']\n",
    "NC = data.loc[data['state'] == 'NC']\n",
    "ND = data.loc[data['state'] == 'ND']\n",
    "OH = data.loc[data['state'] == 'OH']\n",
    "OK = data.loc[data['state'] == 'OK']\n",
    "OR = data.loc[data['state'] == 'OR']\n",
    "PA = data.loc[data['state'] == 'PA']\n",
    "RI = data.loc[data['state'] == 'RI']\n",
    "SC = data.loc[data['state'] == 'SC']\n",
    "SD = data.loc[data['state'] == 'SD']\n",
    "TN = data.loc[data['state'] == 'TN']\n",
    "TX = data.loc[data['state'] == 'TX']\n",
    "UT = data.loc[data['state'] == 'UT']\n",
    "VT = data.loc[data['state'] == 'VT']\n",
    "VA = data.loc[data['state'] == 'VA']\n",
    "WA = data.loc[data['state'] == 'WA']\n",
    "WV = data.loc[data['state'] == 'WV']\n",
    "WI = data.loc[data['state'] == 'WI']\n",
    "WY = data.loc[data['state'] == 'WY']"
   ]
  },
  {
   "cell_type": "markdown",
   "metadata": {},
   "source": [
    "This calculates the maximum input a among all of the states."
   ]
  },
  {
   "cell_type": "code",
   "execution_count": 1134,
   "metadata": {},
   "outputs": [
    {
     "data": {
      "text/plain": [
       "163611900.8"
      ]
     },
     "execution_count": 1134,
     "metadata": {},
     "output_type": "execute_result"
    }
   ],
   "source": [
    "maximum = max(round(NY['adjusted'].sum(skipna = True),2),\n",
    "round(AL['adjusted'].sum(skipna = True),2),\n",
    "round(AK['adjusted'].sum(skipna = True),2),\n",
    "round(AZ['adjusted'].sum(skipna = True),2),\n",
    "round(AR['adjusted'].sum(skipna = True),2),\n",
    "round(CA['adjusted'].sum(skipna = True),2),\n",
    "round(CO['adjusted'].sum(skipna = True),2),\n",
    "round(CT['adjusted'].sum(skipna = True),2),\n",
    "round(DE['adjusted'].sum(skipna = True),2),\n",
    "round(FL['adjusted'].sum(skipna = True),2),\n",
    "round(GA['adjusted'].sum(skipna = True),2),\n",
    "round(HI['adjusted'].sum(skipna = True),2),\n",
    "round(ID['adjusted'].sum(skipna = True),2),\n",
    "round(IL['adjusted'].sum(skipna = True),2),\n",
    "round(IN['adjusted'].sum(skipna = True),2),\n",
    "round(IA['adjusted'].sum(skipna = True),2),\n",
    "round(KS['adjusted'].sum(skipna = True),2),\n",
    "round(KY['adjusted'].sum(skipna = True),2),\n",
    "round(LA['adjusted'].sum(skipna = True),2),\n",
    "round(ME['adjusted'].sum(skipna = True),2),\n",
    "round(MD['adjusted'].sum(skipna = True),2),\n",
    "round(MA['adjusted'].sum(skipna = True),2),\n",
    "round(MI['adjusted'].sum(skipna = True),2),\n",
    "round(MN['adjusted'].sum(skipna = True),2),\n",
    "round(MS['adjusted'].sum(skipna = True),2),\n",
    "round(MO['adjusted'].sum(skipna = True),2),\n",
    "round(MT['adjusted'].sum(skipna = True),2),\n",
    "round(NE['adjusted'].sum(skipna = True),2),\n",
    "round(NV['adjusted'].sum(skipna = True),2),\n",
    "round(NH['adjusted'].sum(skipna = True),2),\n",
    "round(NJ['adjusted'].sum(skipna = True),2),\n",
    "round(NM['adjusted'].sum(skipna = True),2),\n",
    "round(NC['adjusted'].sum(skipna = True),2),\n",
    "round(ND['adjusted'].sum(skipna = True),2),\n",
    "round(OH['adjusted'].sum(skipna = True),2),\n",
    "round(OK['adjusted'].sum(skipna = True),2),\n",
    "round(OR['adjusted'].sum(skipna = True),2),\n",
    "round(PA['adjusted'].sum(skipna = True),2),\n",
    "round(RI['adjusted'].sum(skipna = True),2),\n",
    "round(SC['adjusted'].sum(skipna = True),2),\n",
    "round(SD['adjusted'].sum(skipna = True),2),\n",
    "round(TN['adjusted'].sum(skipna = True),2),\n",
    "round(TX['adjusted'].sum(skipna = True),2),\n",
    "round(UT['adjusted'].sum(skipna = True),2),\n",
    "round(VT['adjusted'].sum(skipna = True),2),\n",
    "round(VA['adjusted'].sum(skipna = True),2),\n",
    "round(WA['adjusted'].sum(skipna = True),2),\n",
    "round(WV['adjusted'].sum(skipna = True),2),\n",
    "round(WI['adjusted'].sum(skipna = True),2),\n",
    "round(WY['adjusted'].sum(skipna = True),2))\n",
    "maximum"
   ]
  },
  {
   "cell_type": "markdown",
   "metadata": {},
   "source": [
    "Gets the total number of democratic donations per state."
   ]
  },
  {
   "cell_type": "code",
   "execution_count": 1135,
   "metadata": {},
   "outputs": [],
   "source": [
    "NYdem = round(NY.loc[NY['party'] == 'DEM']['adjusted'].sum(skipna = True), 2)\n",
    "ALdem = round(AL.loc[AL['party'] == 'DEM']['adjusted'].sum(skipna = True), 2)\n",
    "AKdem = round(AK.loc[AK['party'] == 'DEM']['adjusted'].sum(skipna = True), 2)\n",
    "AZdem = round(AZ.loc[AZ['party'] == 'DEM']['adjusted'].sum(skipna = True), 2)\n",
    "ARdem = round(AR.loc[AR['party'] == 'DEM']['adjusted'].sum(skipna = True), 2)\n",
    "CAdem = round(CA.loc[CA['party'] == 'DEM']['adjusted'].sum(skipna = True), 2)\n",
    "COdem = round(CO.loc[CO['party'] == 'DEM']['adjusted'].sum(skipna = True), 2)\n",
    "CTdem = round(CT.loc[CT['party'] == 'DEM']['adjusted'].sum(skipna = True), 2)\n",
    "DEdem = round(DE.loc[DE['party'] == 'DEM']['adjusted'].sum(skipna = True), 2)\n",
    "FLdem = round(FL.loc[FL['party'] == 'DEM']['adjusted'].sum(skipna = True), 2)\n",
    "GAdem = round(GA.loc[GA['party'] == 'DEM']['adjusted'].sum(skipna = True), 2)\n",
    "HIdem = round(HI.loc[HI['party'] == 'DEM']['adjusted'].sum(skipna = True), 2)\n",
    "IDdem = round(ID.loc[ID['party'] == 'DEM']['adjusted'].sum(skipna = True), 2)\n",
    "ILdem = round(IL.loc[IL['party'] == 'DEM']['adjusted'].sum(skipna = True), 2)\n",
    "INdem = round(IN.loc[IN['party'] == 'DEM']['adjusted'].sum(skipna = True), 2)\n",
    "IAdem = round(IA.loc[IA['party'] == 'DEM']['adjusted'].sum(skipna = True), 2)\n",
    "KSdem = round(KS.loc[KS['party'] == 'DEM']['adjusted'].sum(skipna = True), 2)\n",
    "KYdem = round(KY.loc[KY['party'] == 'DEM']['adjusted'].sum(skipna = True), 2)\n",
    "LAdem = round(LA.loc[LA['party'] == 'DEM']['adjusted'].sum(skipna = True), 2)\n",
    "MEdem = round(ME.loc[ME['party'] == 'DEM']['adjusted'].sum(skipna = True), 2)\n",
    "MDdem = round(MD.loc[MD['party'] == 'DEM']['adjusted'].sum(skipna = True), 2)\n",
    "MAdem = round(MA.loc[MA['party'] == 'DEM']['adjusted'].sum(skipna = True), 2)\n",
    "MIdem = round(MI.loc[MI['party'] == 'DEM']['adjusted'].sum(skipna = True), 2)\n",
    "MNdem = round(MN.loc[MN['party'] == 'DEM']['adjusted'].sum(skipna = True), 2)\n",
    "MSdem = round(MS.loc[MS['party'] == 'DEM']['adjusted'].sum(skipna = True), 2)\n",
    "MOdem = round(MO.loc[MO['party'] == 'DEM']['adjusted'].sum(skipna = True), 2)\n",
    "MTdem = round(MT.loc[MT['party'] == 'DEM']['adjusted'].sum(skipna = True), 2)\n",
    "NEdem = round(NE.loc[NE['party'] == 'DEM']['adjusted'].sum(skipna = True), 2)\n",
    "NVdem = round(NV.loc[NV['party'] == 'DEM']['adjusted'].sum(skipna = True), 2)\n",
    "NHdem = round(NH.loc[NH['party'] == 'DEM']['adjusted'].sum(skipna = True), 2)\n",
    "NJdem = round(NJ.loc[NJ['party'] == 'DEM']['adjusted'].sum(skipna = True), 2)\n",
    "NMdem = round(NM.loc[NM['party'] == 'DEM']['adjusted'].sum(skipna = True), 2)\n",
    "NCdem = round(NC.loc[NC['party'] == 'DEM']['adjusted'].sum(skipna = True), 2)\n",
    "NDdem = round(ND.loc[ND['party'] == 'DEM']['adjusted'].sum(skipna = True), 2)\n",
    "OHdem = round(OH.loc[OH['party'] == 'DEM']['adjusted'].sum(skipna = True), 2)\n",
    "OKdem = round(OK.loc[OK['party'] == 'DEM']['adjusted'].sum(skipna = True), 2)\n",
    "ORdem = round(OR.loc[OR['party'] == 'DEM']['adjusted'].sum(skipna = True), 2)\n",
    "PAdem = round(PA.loc[PA['party'] == 'DEM']['adjusted'].sum(skipna = True), 2)\n",
    "RIdem = round(RI.loc[RI['party'] == 'DEM']['adjusted'].sum(skipna = True), 2)\n",
    "SCdem = round(SC.loc[SC['party'] == 'DEM']['adjusted'].sum(skipna = True), 2)\n",
    "SDdem = round(SD.loc[SD['party'] == 'DEM']['adjusted'].sum(skipna = True), 2)\n",
    "TNdem = round(TN.loc[TN['party'] == 'DEM']['adjusted'].sum(skipna = True), 2)\n",
    "TXdem = round(TX.loc[TX['party'] == 'DEM']['adjusted'].sum(skipna = True), 2)\n",
    "UTdem = round(UT.loc[UT['party'] == 'DEM']['adjusted'].sum(skipna = True), 2)\n",
    "VTdem = round(VT.loc[VT['party'] == 'DEM']['adjusted'].sum(skipna = True), 2)\n",
    "VAdem = round(VA.loc[VA['party'] == 'DEM']['adjusted'].sum(skipna = True), 2)\n",
    "WAdem = round(WA.loc[WA['party'] == 'DEM']['adjusted'].sum(skipna = True), 2)\n",
    "WVdem = round(WV.loc[WV['party'] == 'DEM']['adjusted'].sum(skipna = True), 2)\n",
    "WIdem = round(WI.loc[WI['party'] == 'DEM']['adjusted'].sum(skipna = True), 2)\n",
    "WYdem = round(WY.loc[WY['party'] == 'DEM']['adjusted'].sum(skipna = True), 2)"
   ]
  },
  {
   "cell_type": "markdown",
   "metadata": {},
   "source": [
    "Gets the total number of republican contributions per state"
   ]
  },
  {
   "cell_type": "code",
   "execution_count": 1136,
   "metadata": {},
   "outputs": [],
   "source": [
    "NYrep = round(NY.loc[NY['party'] == 'REP']['adjusted'].sum(skipna = True), 2)\n",
    "ALrep = round(AL.loc[AL['party'] == 'REP']['adjusted'].sum(skipna = True), 2)\n",
    "AKrep = round(AK.loc[AK['party'] == 'REP']['adjusted'].sum(skipna = True), 2)\n",
    "AZrep = round(AZ.loc[AZ['party'] == 'REP']['adjusted'].sum(skipna = True), 2)\n",
    "ARrep = round(AR.loc[AR['party'] == 'REP']['adjusted'].sum(skipna = True), 2)\n",
    "CArep = round(CA.loc[CA['party'] == 'REP']['adjusted'].sum(skipna = True), 2)\n",
    "COrep = round(CO.loc[CO['party'] == 'REP']['adjusted'].sum(skipna = True), 2)\n",
    "CTrep = round(CT.loc[CT['party'] == 'REP']['adjusted'].sum(skipna = True), 2)\n",
    "DErep = round(DE.loc[DE['party'] == 'REP']['adjusted'].sum(skipna = True), 2)\n",
    "FLrep = round(FL.loc[FL['party'] == 'REP']['adjusted'].sum(skipna = True), 2)\n",
    "GArep = round(GA.loc[GA['party'] == 'REP']['adjusted'].sum(skipna = True), 2)\n",
    "HIrep = round(HI.loc[HI['party'] == 'REP']['adjusted'].sum(skipna = True), 2)\n",
    "IDrep = round(ID.loc[ID['party'] == 'REP']['adjusted'].sum(skipna = True), 2)\n",
    "ILrep = round(IL.loc[IL['party'] == 'REP']['adjusted'].sum(skipna = True), 2)\n",
    "INrep = round(IN.loc[IN['party'] == 'REP']['adjusted'].sum(skipna = True), 2)\n",
    "IArep = round(IA.loc[IA['party'] == 'REP']['adjusted'].sum(skipna = True), 2)\n",
    "KSrep = round(KS.loc[KS['party'] == 'REP']['adjusted'].sum(skipna = True), 2)\n",
    "KYrep = round(KY.loc[KY['party'] == 'REP']['adjusted'].sum(skipna = True), 2)\n",
    "LArep = round(LA.loc[LA['party'] == 'REP']['adjusted'].sum(skipna = True), 2)\n",
    "MErep = round(ME.loc[ME['party'] == 'REP']['adjusted'].sum(skipna = True), 2)\n",
    "MDrep = round(MD.loc[MD['party'] == 'REP']['adjusted'].sum(skipna = True), 2)\n",
    "MArep = round(MA.loc[MA['party'] == 'REP']['adjusted'].sum(skipna = True), 2)\n",
    "MIrep = round(MI.loc[MI['party'] == 'REP']['adjusted'].sum(skipna = True), 2)\n",
    "MNrep = round(MN.loc[MN['party'] == 'REP']['adjusted'].sum(skipna = True), 2)\n",
    "MSrep = round(MS.loc[MS['party'] == 'REP']['adjusted'].sum(skipna = True), 2)\n",
    "MOrep = round(MO.loc[MO['party'] == 'REP']['adjusted'].sum(skipna = True), 2)\n",
    "MTrep = round(MT.loc[MT['party'] == 'REP']['adjusted'].sum(skipna = True), 2)\n",
    "NErep = round(NE.loc[NE['party'] == 'REP']['adjusted'].sum(skipna = True), 2)\n",
    "NVrep = round(NV.loc[NV['party'] == 'REP']['adjusted'].sum(skipna = True), 2)\n",
    "NHrep = round(NH.loc[NH['party'] == 'REP']['adjusted'].sum(skipna = True), 2)\n",
    "NJrep = round(NJ.loc[NJ['party'] == 'REP']['adjusted'].sum(skipna = True), 2)\n",
    "NMrep = round(NM.loc[NM['party'] == 'REP']['adjusted'].sum(skipna = True), 2)\n",
    "NCrep = round(NC.loc[NC['party'] == 'REP']['adjusted'].sum(skipna = True), 2)\n",
    "NDrep = round(ND.loc[ND['party'] == 'REP']['adjusted'].sum(skipna = True), 2)\n",
    "OHrep = round(OH.loc[OH['party'] == 'REP']['adjusted'].sum(skipna = True), 2)\n",
    "OKrep = round(OK.loc[OK['party'] == 'REP']['adjusted'].sum(skipna = True), 2)\n",
    "ORrep = round(OR.loc[OR['party'] == 'REP']['adjusted'].sum(skipna = True), 2)\n",
    "PArep = round(PA.loc[PA['party'] == 'REP']['adjusted'].sum(skipna = True), 2)\n",
    "RIrep = round(RI.loc[RI['party'] == 'REP']['adjusted'].sum(skipna = True), 2)\n",
    "SCrep = round(SC.loc[SC['party'] == 'REP']['adjusted'].sum(skipna = True), 2)\n",
    "SDrep = round(SD.loc[SD['party'] == 'REP']['adjusted'].sum(skipna = True), 2)\n",
    "TNrep = round(TN.loc[TN['party'] == 'REP']['adjusted'].sum(skipna = True), 2)\n",
    "TXrep = round(TX.loc[TX['party'] == 'REP']['adjusted'].sum(skipna = True), 2)\n",
    "UTrep = round(UT.loc[UT['party'] == 'REP']['adjusted'].sum(skipna = True), 2)\n",
    "VTrep = round(VT.loc[VT['party'] == 'REP']['adjusted'].sum(skipna = True), 2)\n",
    "VArep = round(VA.loc[VA['party'] == 'REP']['adjusted'].sum(skipna = True), 2)\n",
    "WArep = round(WA.loc[WA['party'] == 'REP']['adjusted'].sum(skipna = True), 2)\n",
    "WVrep = round(WV.loc[WV['party'] == 'REP']['adjusted'].sum(skipna = True), 2)\n",
    "WIrep = round(WI.loc[WI['party'] == 'REP']['adjusted'].sum(skipna = True), 2)\n",
    "WYrep = round(WY.loc[WY['party'] == 'REP']['adjusted'].sum(skipna = True), 2)"
   ]
  },
  {
   "cell_type": "markdown",
   "metadata": {},
   "source": [
    "New York Data:"
   ]
  },
  {
   "cell_type": "code",
   "execution_count": 1137,
   "metadata": {},
   "outputs": [
    {
     "name": "stdout",
     "output_type": "stream",
     "text": [
      "14268600.98\n",
      "62236350.93\n"
     ]
    }
   ],
   "source": [
    "print(NYrep)\n",
    "print(NYdem)"
   ]
  },
  {
   "cell_type": "markdown",
   "metadata": {},
   "source": [
    "Alabama Data:"
   ]
  },
  {
   "cell_type": "code",
   "execution_count": 1138,
   "metadata": {},
   "outputs": [
    {
     "name": "stdout",
     "output_type": "stream",
     "text": [
      "6581215.99\n",
      "1089740.0\n"
     ]
    }
   ],
   "source": [
    "print(ALrep)\n",
    "print(ALdem)"
   ]
  },
  {
   "cell_type": "markdown",
   "metadata": {},
   "source": [
    "Alaska Data:"
   ]
  },
  {
   "cell_type": "code",
   "execution_count": 1139,
   "metadata": {},
   "outputs": [
    {
     "name": "stdout",
     "output_type": "stream",
     "text": [
      "788723.0\n",
      "411687.0\n"
     ]
    }
   ],
   "source": [
    "print(AKrep)\n",
    "print(AKdem)"
   ]
  },
  {
   "cell_type": "markdown",
   "metadata": {},
   "source": [
    "Arizona Data:"
   ]
  },
  {
   "cell_type": "code",
   "execution_count": 1140,
   "metadata": {},
   "outputs": [
    {
     "name": "stdout",
     "output_type": "stream",
     "text": [
      "5596591.99\n",
      "5394828.99\n"
     ]
    }
   ],
   "source": [
    "print(AZrep)\n",
    "print(AZdem)"
   ]
  },
  {
   "cell_type": "markdown",
   "metadata": {},
   "source": [
    "Arkansas Data:"
   ]
  },
  {
   "cell_type": "code",
   "execution_count": 1141,
   "metadata": {},
   "outputs": [
    {
     "name": "stdout",
     "output_type": "stream",
     "text": [
      "3066800.0\n",
      "726238.0\n"
     ]
    }
   ],
   "source": [
    "print(ARrep)\n",
    "print(ARdem)"
   ]
  },
  {
   "cell_type": "markdown",
   "metadata": {},
   "source": [
    "California Data:"
   ]
  },
  {
   "cell_type": "code",
   "execution_count": 1142,
   "metadata": {},
   "outputs": [
    {
     "name": "stdout",
     "output_type": "stream",
     "text": [
      "26370024.97\n",
      "136253481.84\n"
     ]
    }
   ],
   "source": [
    "print(CArep)\n",
    "print(CAdem)"
   ]
  },
  {
   "cell_type": "markdown",
   "metadata": {},
   "source": [
    "Colorodo Data:"
   ]
  },
  {
   "cell_type": "code",
   "execution_count": 1143,
   "metadata": {},
   "outputs": [
    {
     "name": "stdout",
     "output_type": "stream",
     "text": [
      "4726698.99\n",
      "13142837.98\n"
     ]
    }
   ],
   "source": [
    "print(COrep)\n",
    "print(COdem)"
   ]
  },
  {
   "cell_type": "markdown",
   "metadata": {},
   "source": [
    "Connecticut Data:"
   ]
  },
  {
   "cell_type": "code",
   "execution_count": 1144,
   "metadata": {},
   "outputs": [
    {
     "name": "stdout",
     "output_type": "stream",
     "text": [
      "2372892.0\n",
      "6947612.99\n"
     ]
    }
   ],
   "source": [
    "print(CTrep)\n",
    "print(CTdem)"
   ]
  },
  {
   "cell_type": "markdown",
   "metadata": {},
   "source": [
    "Delaware Data:"
   ]
  },
  {
   "cell_type": "code",
   "execution_count": 1145,
   "metadata": {},
   "outputs": [
    {
     "name": "stdout",
     "output_type": "stream",
     "text": [
      "322421.0\n",
      "1506852.0\n"
     ]
    }
   ],
   "source": [
    "print(DErep)\n",
    "print(DEdem)"
   ]
  },
  {
   "cell_type": "markdown",
   "metadata": {},
   "source": [
    "Florida Data:"
   ]
  },
  {
   "cell_type": "code",
   "execution_count": 1146,
   "metadata": {},
   "outputs": [
    {
     "name": "stdout",
     "output_type": "stream",
     "text": [
      "16932179.98\n",
      "19268968.98\n"
     ]
    }
   ],
   "source": [
    "print(FLrep)\n",
    "print(FLdem)"
   ]
  },
  {
   "cell_type": "markdown",
   "metadata": {},
   "source": [
    "Georgia Data:"
   ]
  },
  {
   "cell_type": "code",
   "execution_count": 1147,
   "metadata": {},
   "outputs": [
    {
     "name": "stdout",
     "output_type": "stream",
     "text": [
      "9310304.99\n",
      "6310334.99\n"
     ]
    }
   ],
   "source": [
    "print(GArep)\n",
    "print(GAdem)"
   ]
  },
  {
   "cell_type": "markdown",
   "metadata": {},
   "source": [
    "Hawaii Data:"
   ]
  },
  {
   "cell_type": "code",
   "execution_count": 1148,
   "metadata": {},
   "outputs": [
    {
     "name": "stdout",
     "output_type": "stream",
     "text": [
      "398282.0\n",
      "1622549.0\n"
     ]
    }
   ],
   "source": [
    "print(HIrep)\n",
    "print(HIdem)"
   ]
  },
  {
   "cell_type": "markdown",
   "metadata": {},
   "source": [
    "Idaho Data:"
   ]
  },
  {
   "cell_type": "code",
   "execution_count": 1149,
   "metadata": {},
   "outputs": [
    {
     "name": "stdout",
     "output_type": "stream",
     "text": [
      "571771.0\n",
      "781930.0\n"
     ]
    }
   ],
   "source": [
    "print(IDrep)\n",
    "print(IDdem)"
   ]
  },
  {
   "cell_type": "markdown",
   "metadata": {},
   "source": [
    "Illinois Data:"
   ]
  },
  {
   "cell_type": "code",
   "execution_count": 1150,
   "metadata": {},
   "outputs": [
    {
     "name": "stdout",
     "output_type": "stream",
     "text": [
      "8025753.99\n",
      "17796167.98\n"
     ]
    }
   ],
   "source": [
    "print(ILrep)\n",
    "print(ILdem)"
   ]
  },
  {
   "cell_type": "markdown",
   "metadata": {},
   "source": [
    "Indiana Data:"
   ]
  },
  {
   "cell_type": "code",
   "execution_count": 1151,
   "metadata": {},
   "outputs": [
    {
     "name": "stdout",
     "output_type": "stream",
     "text": [
      "2165110.0\n",
      "3611228.0\n"
     ]
    }
   ],
   "source": [
    "print(INrep)\n",
    "print(INdem)"
   ]
  },
  {
   "cell_type": "markdown",
   "metadata": {},
   "source": [
    "Indiana Data:"
   ]
  },
  {
   "cell_type": "code",
   "execution_count": 1152,
   "metadata": {},
   "outputs": [
    {
     "name": "stdout",
     "output_type": "stream",
     "text": [
      "2837084.0\n",
      "3262693.0\n"
     ]
    }
   ],
   "source": [
    "print(IArep)\n",
    "print(IAdem)"
   ]
  },
  {
   "cell_type": "markdown",
   "metadata": {},
   "source": [
    "Kentuky Data:"
   ]
  },
  {
   "cell_type": "code",
   "execution_count": 1153,
   "metadata": {},
   "outputs": [
    {
     "name": "stdout",
     "output_type": "stream",
     "text": [
      "2002817.0\n",
      "1964591.0\n"
     ]
    }
   ],
   "source": [
    "print(KYrep)\n",
    "print(KYdem)"
   ]
  },
  {
   "cell_type": "markdown",
   "metadata": {},
   "source": [
    "Kansas Data:"
   ]
  },
  {
   "cell_type": "code",
   "execution_count": 1154,
   "metadata": {},
   "outputs": [
    {
     "name": "stdout",
     "output_type": "stream",
     "text": [
      "3577600.0\n",
      "1419467.0\n"
     ]
    }
   ],
   "source": [
    "print(KSrep)\n",
    "print(KSdem)"
   ]
  },
  {
   "cell_type": "markdown",
   "metadata": {},
   "source": [
    "Louisiana Data:"
   ]
  },
  {
   "cell_type": "code",
   "execution_count": 1155,
   "metadata": {},
   "outputs": [
    {
     "name": "stdout",
     "output_type": "stream",
     "text": [
      "3716617.0\n",
      "1449942.0\n"
     ]
    }
   ],
   "source": [
    "print(LArep)\n",
    "print(LAdem)"
   ]
  },
  {
   "cell_type": "markdown",
   "metadata": {},
   "source": [
    "Maine Data:"
   ]
  },
  {
   "cell_type": "code",
   "execution_count": 1156,
   "metadata": {},
   "outputs": [
    {
     "name": "stdout",
     "output_type": "stream",
     "text": [
      "554283.0\n",
      "1948986.0\n"
     ]
    }
   ],
   "source": [
    "print(MErep)\n",
    "print(MEdem)"
   ]
  },
  {
   "cell_type": "markdown",
   "metadata": {},
   "source": [
    "Maryland Data:"
   ]
  },
  {
   "cell_type": "code",
   "execution_count": 1157,
   "metadata": {},
   "outputs": [
    {
     "name": "stdout",
     "output_type": "stream",
     "text": [
      "3174877.0\n",
      "12400538.99\n"
     ]
    }
   ],
   "source": [
    "print(MDrep)\n",
    "print(MDdem)"
   ]
  },
  {
   "cell_type": "markdown",
   "metadata": {},
   "source": [
    "Massachusetts Data:"
   ]
  },
  {
   "cell_type": "code",
   "execution_count": 1158,
   "metadata": {},
   "outputs": [
    {
     "name": "stdout",
     "output_type": "stream",
     "text": [
      "2743354.0\n",
      "23554542.97\n"
     ]
    }
   ],
   "source": [
    "print(MArep)\n",
    "print(MAdem)"
   ]
  },
  {
   "cell_type": "markdown",
   "metadata": {},
   "source": [
    "Michigan Data:"
   ]
  },
  {
   "cell_type": "code",
   "execution_count": 1159,
   "metadata": {},
   "outputs": [
    {
     "name": "stdout",
     "output_type": "stream",
     "text": [
      "8156006.99\n",
      "8741125.99\n"
     ]
    }
   ],
   "source": [
    "print(MIrep)\n",
    "print(MIdem)"
   ]
  },
  {
   "cell_type": "markdown",
   "metadata": {},
   "source": [
    "Minnesota Data:"
   ]
  },
  {
   "cell_type": "code",
   "execution_count": 1160,
   "metadata": {},
   "outputs": [
    {
     "name": "stdout",
     "output_type": "stream",
     "text": [
      "2831110.0\n",
      "6124313.99\n"
     ]
    }
   ],
   "source": [
    "print(MNrep)\n",
    "print(MNdem)"
   ]
  },
  {
   "cell_type": "markdown",
   "metadata": {},
   "source": [
    "Mississippi Data:"
   ]
  },
  {
   "cell_type": "code",
   "execution_count": 1161,
   "metadata": {},
   "outputs": [
    {
     "name": "stdout",
     "output_type": "stream",
     "text": [
      "1362706.0\n",
      "347369.0\n"
     ]
    }
   ],
   "source": [
    "print(MSrep)\n",
    "print(MSdem)"
   ]
  },
  {
   "cell_type": "markdown",
   "metadata": {},
   "source": [
    "Missouri Data:"
   ]
  },
  {
   "cell_type": "code",
   "execution_count": 1162,
   "metadata": {},
   "outputs": [
    {
     "name": "stdout",
     "output_type": "stream",
     "text": [
      "4466993.99\n",
      "2674772.0\n"
     ]
    }
   ],
   "source": [
    "print(MOrep)\n",
    "print(MOdem)"
   ]
  },
  {
   "cell_type": "markdown",
   "metadata": {},
   "source": [
    "Montana Data:"
   ]
  },
  {
   "cell_type": "code",
   "execution_count": 1163,
   "metadata": {},
   "outputs": [
    {
     "name": "stdout",
     "output_type": "stream",
     "text": [
      "1417080.0\n",
      "1320710.0\n"
     ]
    }
   ],
   "source": [
    "print(MTrep)\n",
    "print(MTdem)"
   ]
  },
  {
   "cell_type": "markdown",
   "metadata": {},
   "source": [
    "Nebraska Data:"
   ]
  },
  {
   "cell_type": "code",
   "execution_count": 1164,
   "metadata": {},
   "outputs": [
    {
     "name": "stdout",
     "output_type": "stream",
     "text": [
      "1240626.0\n",
      "693448.0\n"
     ]
    }
   ],
   "source": [
    "print(NErep)\n",
    "print(NEdem)"
   ]
  },
  {
   "cell_type": "markdown",
   "metadata": {},
   "source": [
    "Nevada Data:"
   ]
  },
  {
   "cell_type": "code",
   "execution_count": 1165,
   "metadata": {},
   "outputs": [
    {
     "name": "stdout",
     "output_type": "stream",
     "text": [
      "3911622.0\n",
      "2945524.0\n"
     ]
    }
   ],
   "source": [
    "print(NVrep)\n",
    "print(NVdem)"
   ]
  },
  {
   "cell_type": "markdown",
   "metadata": {},
   "source": [
    "New Hampshire Data:"
   ]
  },
  {
   "cell_type": "code",
   "execution_count": 1166,
   "metadata": {},
   "outputs": [
    {
     "name": "stdout",
     "output_type": "stream",
     "text": [
      "743742.0\n",
      "2116573.0\n"
     ]
    }
   ],
   "source": [
    "print(NHrep)\n",
    "print(NHdem)"
   ]
  },
  {
   "cell_type": "markdown",
   "metadata": {},
   "source": [
    "New Jersey Data:"
   ]
  },
  {
   "cell_type": "code",
   "execution_count": 1167,
   "metadata": {},
   "outputs": [
    {
     "name": "stdout",
     "output_type": "stream",
     "text": [
      "3978334.0\n",
      "12842652.98\n"
     ]
    }
   ],
   "source": [
    "print(NJrep)\n",
    "print(NJdem)"
   ]
  },
  {
   "cell_type": "markdown",
   "metadata": {},
   "source": [
    "New Mexico Data:"
   ]
  },
  {
   "cell_type": "code",
   "execution_count": 1168,
   "metadata": {},
   "outputs": [
    {
     "name": "stdout",
     "output_type": "stream",
     "text": [
      "1296768.0\n",
      "3275143.0\n"
     ]
    }
   ],
   "source": [
    "print(NMrep)\n",
    "print(NMdem)"
   ]
  },
  {
   "cell_type": "markdown",
   "metadata": {},
   "source": [
    "North Carolina Data:"
   ]
  },
  {
   "cell_type": "code",
   "execution_count": 1169,
   "metadata": {},
   "outputs": [
    {
     "name": "stdout",
     "output_type": "stream",
     "text": [
      "7723132.99\n",
      "6295620.99\n"
     ]
    }
   ],
   "source": [
    "print(NCrep)\n",
    "print(NCdem)"
   ]
  },
  {
   "cell_type": "markdown",
   "metadata": {},
   "source": [
    "North Dakota Data:"
   ]
  },
  {
   "cell_type": "code",
   "execution_count": 1170,
   "metadata": {},
   "outputs": [
    {
     "name": "stdout",
     "output_type": "stream",
     "text": [
      "378553.0\n",
      "159917.0\n"
     ]
    }
   ],
   "source": [
    "print(NDrep)\n",
    "print(NDdem)"
   ]
  },
  {
   "cell_type": "markdown",
   "metadata": {},
   "source": [
    "Ohio Data:"
   ]
  },
  {
   "cell_type": "code",
   "execution_count": 1171,
   "metadata": {},
   "outputs": [
    {
     "name": "stdout",
     "output_type": "stream",
     "text": [
      "6151687.99\n",
      "3967584.0\n"
     ]
    }
   ],
   "source": [
    "print(OHrep)\n",
    "print(OHdem)"
   ]
  },
  {
   "cell_type": "markdown",
   "metadata": {},
   "source": [
    "Oklahoma Data:"
   ]
  },
  {
   "cell_type": "code",
   "execution_count": 1172,
   "metadata": {},
   "outputs": [
    {
     "name": "stdout",
     "output_type": "stream",
     "text": [
      "3207087.0\n",
      "1616078.0\n"
     ]
    }
   ],
   "source": [
    "print(OKrep)\n",
    "print(OKdem)"
   ]
  },
  {
   "cell_type": "markdown",
   "metadata": {},
   "source": [
    "Oregon Data:"
   ]
  },
  {
   "cell_type": "code",
   "execution_count": 1173,
   "metadata": {},
   "outputs": [
    {
     "name": "stdout",
     "output_type": "stream",
     "text": [
      "1322326.0\n",
      "4476948.99\n"
     ]
    }
   ],
   "source": [
    "print(ORrep)\n",
    "print(ORdem)"
   ]
  },
  {
   "cell_type": "markdown",
   "metadata": {},
   "source": [
    "Pennsylvania Data:"
   ]
  },
  {
   "cell_type": "code",
   "execution_count": 1174,
   "metadata": {},
   "outputs": [
    {
     "name": "stdout",
     "output_type": "stream",
     "text": [
      "5417791.99\n",
      "9526319.99\n"
     ]
    }
   ],
   "source": [
    "print(PArep)\n",
    "print(PAdem)"
   ]
  },
  {
   "cell_type": "markdown",
   "metadata": {},
   "source": [
    "Rhode Island Data:"
   ]
  },
  {
   "cell_type": "code",
   "execution_count": 1175,
   "metadata": {},
   "outputs": [
    {
     "name": "stdout",
     "output_type": "stream",
     "text": [
      "252972.0\n",
      "1278620.0\n"
     ]
    }
   ],
   "source": [
    "print(RIrep)\n",
    "print(RIdem)"
   ]
  },
  {
   "cell_type": "markdown",
   "metadata": {},
   "source": [
    "South Carolina Data:"
   ]
  },
  {
   "cell_type": "code",
   "execution_count": 1176,
   "metadata": {},
   "outputs": [
    {
     "name": "stdout",
     "output_type": "stream",
     "text": [
      "2971671.0\n",
      "3052790.0\n"
     ]
    }
   ],
   "source": [
    "print(SCrep)\n",
    "print(SCdem)"
   ]
  },
  {
   "cell_type": "markdown",
   "metadata": {},
   "source": [
    "South Dakota Data:"
   ]
  },
  {
   "cell_type": "code",
   "execution_count": 1177,
   "metadata": {},
   "outputs": [
    {
     "name": "stdout",
     "output_type": "stream",
     "text": [
      "1007739.0\n",
      "213566.0\n"
     ]
    }
   ],
   "source": [
    "print(SDrep)\n",
    "print(SDdem)"
   ]
  },
  {
   "cell_type": "markdown",
   "metadata": {},
   "source": [
    "Tennessee Data:"
   ]
  },
  {
   "cell_type": "code",
   "execution_count": 1178,
   "metadata": {},
   "outputs": [
    {
     "name": "stdout",
     "output_type": "stream",
     "text": [
      "8179916.99\n",
      "3344399.0\n"
     ]
    }
   ],
   "source": [
    "print(TNrep)\n",
    "print(TNdem)"
   ]
  },
  {
   "cell_type": "markdown",
   "metadata": {},
   "source": [
    "Texas Data:"
   ]
  },
  {
   "cell_type": "code",
   "execution_count": 1179,
   "metadata": {},
   "outputs": [
    {
     "name": "stdout",
     "output_type": "stream",
     "text": [
      "26737005.97\n",
      "25301737.97\n"
     ]
    }
   ],
   "source": [
    "print(TXrep)\n",
    "print(TXdem)"
   ]
  },
  {
   "cell_type": "markdown",
   "metadata": {},
   "source": [
    "Utah Data:"
   ]
  },
  {
   "cell_type": "code",
   "execution_count": 1180,
   "metadata": {},
   "outputs": [
    {
     "name": "stdout",
     "output_type": "stream",
     "text": [
      "1659025.0\n",
      "1688989.0\n"
     ]
    }
   ],
   "source": [
    "print(UTrep)\n",
    "print(UTdem)"
   ]
  },
  {
   "cell_type": "markdown",
   "metadata": {},
   "source": [
    "Vermont Data:"
   ]
  },
  {
   "cell_type": "code",
   "execution_count": 1181,
   "metadata": {},
   "outputs": [
    {
     "name": "stdout",
     "output_type": "stream",
     "text": [
      "192129.0\n",
      "953006.0\n"
     ]
    }
   ],
   "source": [
    "print(VTrep)\n",
    "print(VTdem)"
   ]
  },
  {
   "cell_type": "markdown",
   "metadata": {},
   "source": [
    "Virginia Data:"
   ]
  },
  {
   "cell_type": "code",
   "execution_count": 1182,
   "metadata": {},
   "outputs": [
    {
     "name": "stdout",
     "output_type": "stream",
     "text": [
      "8129679.99\n",
      "12027508.99\n"
     ]
    }
   ],
   "source": [
    "print(VArep)\n",
    "print(VAdem)"
   ]
  },
  {
   "cell_type": "markdown",
   "metadata": {},
   "source": [
    "Wasington Data:"
   ]
  },
  {
   "cell_type": "code",
   "execution_count": 1183,
   "metadata": {},
   "outputs": [
    {
     "name": "stdout",
     "output_type": "stream",
     "text": [
      "3580417.0\n",
      "14437620.98\n"
     ]
    }
   ],
   "source": [
    "print(WArep)\n",
    "print(WAdem)"
   ]
  },
  {
   "cell_type": "markdown",
   "metadata": {},
   "source": [
    "West Virginia Data:"
   ]
  },
  {
   "cell_type": "code",
   "execution_count": 1184,
   "metadata": {},
   "outputs": [
    {
     "name": "stdout",
     "output_type": "stream",
     "text": [
      "666655.0\n",
      "257538.0\n"
     ]
    }
   ],
   "source": [
    "print(WVrep)\n",
    "print(WVdem)"
   ]
  },
  {
   "cell_type": "markdown",
   "metadata": {},
   "source": [
    "Wisconsin Data:"
   ]
  },
  {
   "cell_type": "code",
   "execution_count": 1185,
   "metadata": {},
   "outputs": [
    {
     "name": "stdout",
     "output_type": "stream",
     "text": [
      "2895666.0\n",
      "2082988.0\n"
     ]
    }
   ],
   "source": [
    "print(WIrep)\n",
    "print(WIdem)"
   ]
  },
  {
   "cell_type": "markdown",
   "metadata": {},
   "source": [
    "Wyoming Data:"
   ]
  },
  {
   "cell_type": "code",
   "execution_count": 1186,
   "metadata": {},
   "outputs": [
    {
     "name": "stdout",
     "output_type": "stream",
     "text": [
      "894411.0\n",
      "501865.0\n"
     ]
    }
   ],
   "source": [
    "print(WYrep)\n",
    "print(WYdem)"
   ]
  },
  {
   "cell_type": "markdown",
   "metadata": {},
   "source": [
    "This creates an array with all of the total values of all contributions given for each state."
   ]
  },
  {
   "cell_type": "code",
   "execution_count": 77,
   "metadata": {},
   "outputs": [
    {
     "data": {
      "text/plain": [
       "array([1.90828209e+08, 1.30821681e+07, 3.77175173e+06, 2.91924048e+07,\n",
       "       9.64507307e+06, 2.99554359e+08, 3.00775264e+07, 2.90772831e+07,\n",
       "       3.19204415e+06, 1.81832793e+08, 3.44650800e+07, 5.11139070e+06,\n",
       "       4.14516156e+06, 6.81145798e+07, 2.97715545e+07, 9.56128122e+06,\n",
       "       1.26291653e+07, 1.29310355e+07, 1.41515587e+07, 8.43413887e+06,\n",
       "       6.21005258e+07, 7.98693145e+07, 4.71198716e+07, 2.88441400e+07,\n",
       "       8.88507764e+06, 2.96762947e+07, 1.51891842e+07, 7.85150992e+06,\n",
       "       1.99569554e+07, 7.00283269e+06, 4.77024501e+07, 1.09230909e+07,\n",
       "       2.87578749e+07, 4.53327135e+06, 4.47524858e+07, 1.11550718e+07,\n",
       "       1.29903079e+07, 7.02226124e+07, 5.24355462e+06, 1.29519448e+07,\n",
       "       3.90634091e+06, 4.07699154e+07, 1.55036670e+08, 1.00689867e+07,\n",
       "       2.54081983e+06, 6.53491009e+07, 4.86949500e+07, 5.72142159e+06,\n",
       "       2.24216937e+07, 4.65761044e+06])"
      ]
     },
     "execution_count": 77,
     "metadata": {},
     "output_type": "execute_result"
    }
   ],
   "source": [
    "arrayOfStateData = np.array([round(NY['adjusted'].sum(skipna = True),2),\n",
    "round(AL['adjusted'].sum(skipna = True),2),\n",
    "round(AK['adjusted'].sum(skipna = True),2),\n",
    "round(AZ['adjusted'].sum(skipna = True),2),\n",
    "round(AR['adjusted'].sum(skipna = True),2),\n",
    "round(CA['adjusted'].sum(skipna = True),2),\n",
    "round(CO['adjusted'].sum(skipna = True),2),\n",
    "round(CT['adjusted'].sum(skipna = True),2),\n",
    "round(DE['adjusted'].sum(skipna = True),2),\n",
    "round(FL['adjusted'].sum(skipna = True),2),\n",
    "round(GA['adjusted'].sum(skipna = True),2),\n",
    "round(HI['adjusted'].sum(skipna = True),2),\n",
    "round(ID['adjusted'].sum(skipna = True),2),\n",
    "round(IL['adjusted'].sum(skipna = True),2),\n",
    "round(IN['adjusted'].sum(skipna = True),2),\n",
    "round(IA['adjusted'].sum(skipna = True),2),\n",
    "round(KS['adjusted'].sum(skipna = True),2),\n",
    "round(KY['adjusted'].sum(skipna = True),2),\n",
    "round(LA['adjusted'].sum(skipna = True),2),\n",
    "round(ME['adjusted'].sum(skipna = True),2),\n",
    "round(MD['adjusted'].sum(skipna = True),2),\n",
    "round(MA['adjusted'].sum(skipna = True),2),\n",
    "round(MI['adjusted'].sum(skipna = True),2),\n",
    "round(MN['adjusted'].sum(skipna = True),2),\n",
    "round(MS['adjusted'].sum(skipna = True),2),\n",
    "round(MO['adjusted'].sum(skipna = True),2),\n",
    "round(MT['adjusted'].sum(skipna = True),2),\n",
    "round(NE['adjusted'].sum(skipna = True),2),\n",
    "round(NV['adjusted'].sum(skipna = True),2),\n",
    "round(NH['adjusted'].sum(skipna = True),2),\n",
    "round(NJ['adjusted'].sum(skipna = True),2),\n",
    "round(NM['adjusted'].sum(skipna = True),2),\n",
    "round(NC['adjusted'].sum(skipna = True),2),\n",
    "round(ND['adjusted'].sum(skipna = True),2),\n",
    "round(OH['adjusted'].sum(skipna = True),2),\n",
    "round(OK['adjusted'].sum(skipna = True),2),\n",
    "round(OR['adjusted'].sum(skipna = True),2),\n",
    "round(PA['adjusted'].sum(skipna = True),2),\n",
    "round(RI['adjusted'].sum(skipna = True),2),\n",
    "round(SC['adjusted'].sum(skipna = True),2),\n",
    "round(SD['adjusted'].sum(skipna = True),2),\n",
    "round(TN['adjusted'].sum(skipna = True),2),\n",
    "round(TX['adjusted'].sum(skipna = True),2),\n",
    "round(UT['adjusted'].sum(skipna = True),2),\n",
    "round(VT['adjusted'].sum(skipna = True),2),\n",
    "round(VA['adjusted'].sum(skipna = True),2),\n",
    "round(WA['adjusted'].sum(skipna = True),2),\n",
    "round(WV['adjusted'].sum(skipna = True),2),\n",
    "round(WI['adjusted'].sum(skipna = True),2),\n",
    "round(WY['adjusted'].sum(skipna = True),2)])\n",
    "arrayOfStateData"
   ]
  },
  {
   "cell_type": "markdown",
   "metadata": {},
   "source": [
    "This code gets the quantiles or all of the US data"
   ]
  },
  {
   "cell_type": "code",
   "execution_count": 78,
   "metadata": {},
   "outputs": [
    {
     "data": {
      "text/plain": [
       "[4494460.37,\n",
       " 6746550.47,\n",
       " 9619935.52,\n",
       " 12810287.44,\n",
       " 14670371.46,\n",
       " 28937397.27,\n",
       " 31393792.51,\n",
       " 47900950.11,\n",
       " 71187282.62]"
      ]
     },
     "execution_count": 78,
     "metadata": {},
     "output_type": "execute_result"
    }
   ],
   "source": [
    "decitiles = [\n",
    "    round(np.percentile( arrayOfStateData, 10 ),2),\n",
    "    round(np.percentile( arrayOfStateData, 20 ),2),\n",
    "    round(np.percentile( arrayOfStateData, 30 ),2),\n",
    "    round(np.percentile( arrayOfStateData, 40 ),2),\n",
    "    round(np.percentile( arrayOfStateData, 50 ),2),\n",
    "    round(np.percentile( arrayOfStateData, 60 ),2),\n",
    "    round(np.percentile( arrayOfStateData, 70 ),2),\n",
    "    round(np.percentile( arrayOfStateData, 80 ),2),\n",
    "    round(np.percentile( arrayOfStateData, 90 ),2)\n",
    "]\n",
    "decitiles"
   ]
  }
 ],
 "metadata": {
  "kernelspec": {
   "display_name": "Python 3",
   "language": "python",
   "name": "python3"
  },
  "language_info": {
   "codemirror_mode": {
    "name": "ipython",
    "version": 3
   },
   "file_extension": ".py",
   "mimetype": "text/x-python",
   "name": "python",
   "nbconvert_exporter": "python",
   "pygments_lexer": "ipython3",
   "version": "3.7.4"
  }
 },
 "nbformat": 4,
 "nbformat_minor": 2
}
