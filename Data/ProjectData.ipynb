{
 "cells": [
  {
   "cell_type": "code",
   "execution_count": 1,
   "metadata": {},
   "outputs": [],
   "source": [
    "import pandas as pd\n",
    "import numpy as np\n",
    "import glob\n",
    "pd.set_option('display.max_colwidth', -1)"
   ]
  },
  {
   "cell_type": "markdown",
   "metadata": {},
   "source": [
    "Merge all .txt files in directory as data was kept seperate by year."
   ]
  },
  {
   "cell_type": "code",
   "execution_count": null,
   "metadata": {},
   "outputs": [],
   "source": [
    "path = r'/Users/axelgarcia/Documents/CSE 184/usafec.nosync/Data/' # use your path\n",
    "all_files = glob.glob(path + \"/*.txt\")\n",
    "\n",
    "li = []\n",
    "\n",
    "for filename in all_files:\n",
    "    print(filename)\n",
    "    df = pd.read_csv(filename, index_col=None, header=None, sep = \"|\",error_bad_lines=False)\n",
    "    li.append(df)\n",
    "\n",
    "frame = pd.concat(li, axis=0, ignore_index=True)"
   ]
  },
  {
   "cell_type": "markdown",
   "metadata": {},
   "source": [
    "Quick peek at data"
   ]
  },
  {
   "cell_type": "code",
   "execution_count": null,
   "metadata": {},
   "outputs": [],
   "source": [
    "frame.head()"
   ]
  },
  {
   "cell_type": "markdown",
   "metadata": {},
   "source": [
    "Drop unnecessary columns such as name, city, .etc"
   ]
  },
  {
   "cell_type": "code",
   "execution_count": null,
   "metadata": {},
   "outputs": [],
   "source": [
    "cols = [1,2,3,4,5,6,7,8,10,12,15,16,17,18,19,20]\n",
    "frame.drop(frame.columns[cols],axis=1,inplace=True)"
   ]
  },
  {
   "cell_type": "code",
   "execution_count": null,
   "metadata": {},
   "outputs": [],
   "source": [
    "frame.head()"
   ]
  },
  {
   "cell_type": "code",
   "execution_count": null,
   "metadata": {},
   "outputs": [],
   "source": [
    "df = frame.copy()\n",
    "df.dropna(inplace=True)\n",
    "df"
   ]
  },
  {
   "cell_type": "markdown",
   "metadata": {},
   "source": [
    "Attempt to sort by date, this failed as 12212018.0 is bigger than 1212020.0"
   ]
  },
  {
   "cell_type": "code",
   "execution_count": null,
   "metadata": {},
   "outputs": [],
   "source": [
    "df.sort_values(by=[13], inplace = True)"
   ]
  },
  {
   "cell_type": "markdown",
   "metadata": {},
   "source": [
    "If date isn't of valid length, drop it."
   ]
  },
  {
   "cell_type": "code",
   "execution_count": null,
   "metadata": {},
   "outputs": [],
   "source": [
    "df = df[df[13].astype(str).str.len() > 7]\n",
    "df"
   ]
  },
  {
   "cell_type": "markdown",
   "metadata": {},
   "source": [
    "We only want year value, so keep 6th char to third to last char."
   ]
  },
  {
   "cell_type": "code",
   "execution_count": null,
   "metadata": {},
   "outputs": [],
   "source": [
    "df[13] = df[13].astype(str).str[-6:-2]"
   ]
  },
  {
   "cell_type": "markdown",
   "metadata": {},
   "source": [
    "Successfully sort by year."
   ]
  },
  {
   "cell_type": "code",
   "execution_count": null,
   "metadata": {},
   "outputs": [],
   "source": [
    "df = df.sort_values(by=[13])"
   ]
  },
  {
   "cell_type": "code",
   "execution_count": null,
   "metadata": {},
   "outputs": [],
   "source": [
    "df[13] = df[13].astype(int)"
   ]
  },
  {
   "cell_type": "markdown",
   "metadata": {},
   "source": [
    "Add names to columns."
   ]
  },
  {
   "cell_type": "code",
   "execution_count": null,
   "metadata": {},
   "outputs": [],
   "source": [
    "df.columns = ['cmte_id', 'state', 'employer', 'year', 'amount']"
   ]
  },
  {
   "cell_type": "markdown",
   "metadata": {},
   "source": [
    "Drop row if year is not within expected range."
   ]
  },
  {
   "cell_type": "code",
   "execution_count": null,
   "metadata": {},
   "outputs": [],
   "source": [
    "df = df.drop(df[(df['year'] < 1979) | (df['year'] > 2020)].index)"
   ]
  },
  {
   "cell_type": "markdown",
   "metadata": {},
   "source": [
    "Peek at data."
   ]
  },
  {
   "cell_type": "code",
   "execution_count": null,
   "metadata": {},
   "outputs": [],
   "source": [
    "df"
   ]
  },
  {
   "cell_type": "markdown",
   "metadata": {},
   "source": [
    "Read csv containing committees and their respective party affiliation."
   ]
  },
  {
   "cell_type": "code",
   "execution_count": 3,
   "metadata": {},
   "outputs": [],
   "source": [
    "df1 = pd.read_csv('/Users/axelgarcia/Documents/CSE 184/usafec.nosync/Data/cleanCommittees.csv', index_col=None, sep = \",\",error_bad_lines=False)"
   ]
  },
  {
   "cell_type": "markdown",
   "metadata": {},
   "source": [
    "We only have use for data that has a possible party mapping, so we check if there is a corresponding mapping in committee data, if not we drop that data."
   ]
  },
  {
   "cell_type": "code",
   "execution_count": 5,
   "metadata": {},
   "outputs": [],
   "source": [
    "df = df[df['cmte_id'].isin(df1['cmte_id'])]"
   ]
  },
  {
   "cell_type": "code",
   "execution_count": null,
   "metadata": {},
   "outputs": [],
   "source": [
    "Peek at data."
   ]
  },
  {
   "cell_type": "code",
   "execution_count": 6,
   "metadata": {},
   "outputs": [
    {
     "data": {
      "text/html": [
       "<div>\n",
       "<style scoped>\n",
       "    .dataframe tbody tr th:only-of-type {\n",
       "        vertical-align: middle;\n",
       "    }\n",
       "\n",
       "    .dataframe tbody tr th {\n",
       "        vertical-align: top;\n",
       "    }\n",
       "\n",
       "    .dataframe thead th {\n",
       "        text-align: right;\n",
       "    }\n",
       "</style>\n",
       "<table border=\"1\" class=\"dataframe\">\n",
       "  <thead>\n",
       "    <tr style=\"text-align: right;\">\n",
       "      <th></th>\n",
       "      <th>cmte_id</th>\n",
       "      <th>state</th>\n",
       "      <th>employer</th>\n",
       "      <th>year</th>\n",
       "      <th>amount</th>\n",
       "    </tr>\n",
       "  </thead>\n",
       "  <tbody>\n",
       "    <tr>\n",
       "      <td>0</td>\n",
       "      <td>C00096941</td>\n",
       "      <td>KY</td>\n",
       "      <td>INSURANCE SALES AND ADM</td>\n",
       "      <td>1979</td>\n",
       "      <td>1000</td>\n",
       "    </tr>\n",
       "    <tr>\n",
       "      <td>1</td>\n",
       "      <td>C00108407</td>\n",
       "      <td>MD</td>\n",
       "      <td>PHYSICIAN</td>\n",
       "      <td>1979</td>\n",
       "      <td>1000</td>\n",
       "    </tr>\n",
       "    <tr>\n",
       "      <td>2</td>\n",
       "      <td>C00020040</td>\n",
       "      <td>CA</td>\n",
       "      <td>RETIRED</td>\n",
       "      <td>1979</td>\n",
       "      <td>500</td>\n",
       "    </tr>\n",
       "    <tr>\n",
       "      <td>3</td>\n",
       "      <td>C00107318</td>\n",
       "      <td>AZ</td>\n",
       "      <td>REQUESTED</td>\n",
       "      <td>1979</td>\n",
       "      <td>1000</td>\n",
       "    </tr>\n",
       "    <tr>\n",
       "      <td>4</td>\n",
       "      <td>C00107318</td>\n",
       "      <td>AZ</td>\n",
       "      <td>REQUESTED</td>\n",
       "      <td>1979</td>\n",
       "      <td>1000</td>\n",
       "    </tr>\n",
       "    <tr>\n",
       "      <td>...</td>\n",
       "      <td>...</td>\n",
       "      <td>...</td>\n",
       "      <td>...</td>\n",
       "      <td>...</td>\n",
       "      <td>...</td>\n",
       "    </tr>\n",
       "    <tr>\n",
       "      <td>30489455</td>\n",
       "      <td>C00306704</td>\n",
       "      <td>AL</td>\n",
       "      <td>ATTORNEY</td>\n",
       "      <td>2020</td>\n",
       "      <td>200</td>\n",
       "    </tr>\n",
       "    <tr>\n",
       "      <td>30489456</td>\n",
       "      <td>C00369140</td>\n",
       "      <td>OH</td>\n",
       "      <td>RETIRED</td>\n",
       "      <td>2020</td>\n",
       "      <td>200</td>\n",
       "    </tr>\n",
       "    <tr>\n",
       "      <td>30489457</td>\n",
       "      <td>C00266932</td>\n",
       "      <td>GA</td>\n",
       "      <td>SHEPHERD CONSTRUCTION</td>\n",
       "      <td>2020</td>\n",
       "      <td>500</td>\n",
       "    </tr>\n",
       "    <tr>\n",
       "      <td>30489458</td>\n",
       "      <td>C00346544</td>\n",
       "      <td>VA</td>\n",
       "      <td>RETIRED</td>\n",
       "      <td>2020</td>\n",
       "      <td>400</td>\n",
       "    </tr>\n",
       "    <tr>\n",
       "      <td>30489459</td>\n",
       "      <td>C00003418</td>\n",
       "      <td>CO</td>\n",
       "      <td>SELF-EMPLOYED</td>\n",
       "      <td>2020</td>\n",
       "      <td>250</td>\n",
       "    </tr>\n",
       "  </tbody>\n",
       "</table>\n",
       "<p>30489460 rows × 5 columns</p>\n",
       "</div>"
      ],
      "text/plain": [
       "            cmte_id state                 employer  year  amount\n",
       "0         C00096941  KY    INSURANCE SALES AND ADM  1979  1000  \n",
       "1         C00108407  MD    PHYSICIAN                1979  1000  \n",
       "2         C00020040  CA    RETIRED                  1979  500   \n",
       "3         C00107318  AZ    REQUESTED                1979  1000  \n",
       "4         C00107318  AZ    REQUESTED                1979  1000  \n",
       "...             ...  ..          ...                 ...   ...  \n",
       "30489455  C00306704  AL    ATTORNEY                 2020  200   \n",
       "30489456  C00369140  OH    RETIRED                  2020  200   \n",
       "30489457  C00266932  GA    SHEPHERD CONSTRUCTION    2020  500   \n",
       "30489458  C00346544  VA    RETIRED                  2020  400   \n",
       "30489459  C00003418  CO    SELF-EMPLOYED            2020  250   \n",
       "\n",
       "[30489460 rows x 5 columns]"
      ]
     },
     "execution_count": 6,
     "metadata": {},
     "output_type": "execute_result"
    }
   ],
   "source": [
    "df"
   ]
  },
  {
   "cell_type": "markdown",
   "metadata": {},
   "source": [
    "Now that we have only the data with possible mappings, merged both dataframes in order to get the party affiliation of the committee for the donation."
   ]
  },
  {
   "cell_type": "code",
   "execution_count": 7,
   "metadata": {},
   "outputs": [],
   "source": [
    "df = df.merge(df1,on='cmte_id',how='inner')"
   ]
  },
  {
   "cell_type": "markdown",
   "metadata": {},
   "source": [
    "Sort by year again."
   ]
  },
  {
   "cell_type": "code",
   "execution_count": 11,
   "metadata": {},
   "outputs": [],
   "source": [
    "df = df.sort_values('year')"
   ]
  },
  {
   "cell_type": "markdown",
   "metadata": {},
   "source": [
    "Store this cleaned data in csv."
   ]
  },
  {
   "cell_type": "code",
   "execution_count": 12,
   "metadata": {},
   "outputs": [],
   "source": [
    "df.to_csv('/Users/axelgarcia/Documents/CSE 184/usafec.nosync/Data/cleanDataWithParties.csv', index=False)"
   ]
  },
  {
   "cell_type": "markdown",
   "metadata": {},
   "source": [
    "Read in inflation data."
   ]
  },
  {
   "cell_type": "code",
   "execution_count": 6,
   "metadata": {},
   "outputs": [],
   "source": [
    "dfInflation = pd.read_csv('/Users/axelgarcia/Documents/CSE 184/usafec.nosync/Data/CPIAUCNS-1.csv')"
   ]
  },
  {
   "cell_type": "markdown",
   "metadata": {},
   "source": [
    "Merge dataframes to get respective inflation rate in each row."
   ]
  },
  {
   "cell_type": "code",
   "execution_count": 8,
   "metadata": {},
   "outputs": [],
   "source": [
    "df = df.merge(dfInflation,on='year',how='inner')"
   ]
  },
  {
   "cell_type": "markdown",
   "metadata": {},
   "source": [
    "Peek data"
   ]
  },
  {
   "cell_type": "code",
   "execution_count": 13,
   "metadata": {},
   "outputs": [
    {
     "data": {
      "text/html": [
       "<div>\n",
       "<style scoped>\n",
       "    .dataframe tbody tr th:only-of-type {\n",
       "        vertical-align: middle;\n",
       "    }\n",
       "\n",
       "    .dataframe tbody tr th {\n",
       "        vertical-align: top;\n",
       "    }\n",
       "\n",
       "    .dataframe thead th {\n",
       "        text-align: right;\n",
       "    }\n",
       "</style>\n",
       "<table border=\"1\" class=\"dataframe\">\n",
       "  <thead>\n",
       "    <tr style=\"text-align: right;\">\n",
       "      <th></th>\n",
       "      <th>cmte_id</th>\n",
       "      <th>state</th>\n",
       "      <th>employer</th>\n",
       "      <th>year</th>\n",
       "      <th>amount</th>\n",
       "      <th>party</th>\n",
       "      <th>CPIAUCNS</th>\n",
       "    </tr>\n",
       "  </thead>\n",
       "  <tbody>\n",
       "    <tr>\n",
       "      <td>0</td>\n",
       "      <td>C00096941</td>\n",
       "      <td>KY</td>\n",
       "      <td>INSURANCE SALES AND ADM</td>\n",
       "      <td>1979</td>\n",
       "      <td>1000</td>\n",
       "      <td>DEM</td>\n",
       "      <td>72.575000</td>\n",
       "    </tr>\n",
       "    <tr>\n",
       "      <td>1</td>\n",
       "      <td>C00078295</td>\n",
       "      <td>NY</td>\n",
       "      <td>WILKIE, FARR &amp; GALLAGHER</td>\n",
       "      <td>1979</td>\n",
       "      <td>500</td>\n",
       "      <td>DEM</td>\n",
       "      <td>72.575000</td>\n",
       "    </tr>\n",
       "    <tr>\n",
       "      <td>2</td>\n",
       "      <td>C00078295</td>\n",
       "      <td>NY</td>\n",
       "      <td>WENDER, MURASE &amp; WHITE</td>\n",
       "      <td>1979</td>\n",
       "      <td>1000</td>\n",
       "      <td>DEM</td>\n",
       "      <td>72.575000</td>\n",
       "    </tr>\n",
       "    <tr>\n",
       "      <td>3</td>\n",
       "      <td>C00078295</td>\n",
       "      <td>NY</td>\n",
       "      <td>SMILIN &amp; SAFIER, INC</td>\n",
       "      <td>1979</td>\n",
       "      <td>300</td>\n",
       "      <td>DEM</td>\n",
       "      <td>72.575000</td>\n",
       "    </tr>\n",
       "    <tr>\n",
       "      <td>4</td>\n",
       "      <td>C00078295</td>\n",
       "      <td>NY</td>\n",
       "      <td>MUDGE ROSE ET AL</td>\n",
       "      <td>1979</td>\n",
       "      <td>500</td>\n",
       "      <td>DEM</td>\n",
       "      <td>72.575000</td>\n",
       "    </tr>\n",
       "    <tr>\n",
       "      <td>...</td>\n",
       "      <td>...</td>\n",
       "      <td>...</td>\n",
       "      <td>...</td>\n",
       "      <td>...</td>\n",
       "      <td>...</td>\n",
       "      <td>...</td>\n",
       "      <td>...</td>\n",
       "    </tr>\n",
       "    <tr>\n",
       "      <td>30489448</td>\n",
       "      <td>C00694455</td>\n",
       "      <td>DC</td>\n",
       "      <td>THE CALPRO GROUP</td>\n",
       "      <td>2019</td>\n",
       "      <td>200</td>\n",
       "      <td>DEM</td>\n",
       "      <td>251.106833</td>\n",
       "    </tr>\n",
       "    <tr>\n",
       "      <td>30489449</td>\n",
       "      <td>C00694455</td>\n",
       "      <td>WA</td>\n",
       "      <td>SELF-EMPLOYED</td>\n",
       "      <td>2019</td>\n",
       "      <td>100</td>\n",
       "      <td>DEM</td>\n",
       "      <td>251.106833</td>\n",
       "    </tr>\n",
       "    <tr>\n",
       "      <td>30489450</td>\n",
       "      <td>C00694455</td>\n",
       "      <td>CA</td>\n",
       "      <td>SELF-EMPLOYED</td>\n",
       "      <td>2019</td>\n",
       "      <td>2800</td>\n",
       "      <td>DEM</td>\n",
       "      <td>251.106833</td>\n",
       "    </tr>\n",
       "    <tr>\n",
       "      <td>30489451</td>\n",
       "      <td>C00694455</td>\n",
       "      <td>CA</td>\n",
       "      <td>IT'S A WRAPPER! FILMS</td>\n",
       "      <td>2019</td>\n",
       "      <td>2800</td>\n",
       "      <td>DEM</td>\n",
       "      <td>251.106833</td>\n",
       "    </tr>\n",
       "    <tr>\n",
       "      <td>30489452</td>\n",
       "      <td>C00702340</td>\n",
       "      <td>TX</td>\n",
       "      <td>SELF</td>\n",
       "      <td>2019</td>\n",
       "      <td>25</td>\n",
       "      <td>IND</td>\n",
       "      <td>251.106833</td>\n",
       "    </tr>\n",
       "  </tbody>\n",
       "</table>\n",
       "<p>30489453 rows × 7 columns</p>\n",
       "</div>"
      ],
      "text/plain": [
       "            cmte_id state                  employer  year  amount party  \\\n",
       "0         C00096941  KY    INSURANCE SALES AND ADM   1979  1000    DEM    \n",
       "1         C00078295  NY    WILKIE, FARR & GALLAGHER  1979  500     DEM    \n",
       "2         C00078295  NY    WENDER, MURASE & WHITE    1979  1000    DEM    \n",
       "3         C00078295  NY    SMILIN & SAFIER, INC      1979  300     DEM    \n",
       "4         C00078295  NY    MUDGE ROSE ET AL          1979  500     DEM    \n",
       "...             ...  ..                 ...           ...  ...     ...    \n",
       "30489448  C00694455  DC    THE CALPRO GROUP          2019  200     DEM    \n",
       "30489449  C00694455  WA    SELF-EMPLOYED             2019  100     DEM    \n",
       "30489450  C00694455  CA    SELF-EMPLOYED             2019  2800    DEM    \n",
       "30489451  C00694455  CA    IT'S A WRAPPER! FILMS     2019  2800    DEM    \n",
       "30489452  C00702340  TX    SELF                      2019  25      IND    \n",
       "\n",
       "            CPIAUCNS  \n",
       "0         72.575000   \n",
       "1         72.575000   \n",
       "2         72.575000   \n",
       "3         72.575000   \n",
       "4         72.575000   \n",
       "...             ...   \n",
       "30489448  251.106833  \n",
       "30489449  251.106833  \n",
       "30489450  251.106833  \n",
       "30489451  251.106833  \n",
       "30489452  251.106833  \n",
       "\n",
       "[30489453 rows x 7 columns]"
      ]
     },
     "execution_count": 13,
     "metadata": {},
     "output_type": "execute_result"
    }
   ],
   "source": [
    "df"
   ]
  },
  {
   "cell_type": "markdown",
   "metadata": {},
   "source": [
    "Apply function in order to adjust donation amounts to 2019 dollars"
   ]
  },
  {
   "cell_type": "code",
   "execution_count": 16,
   "metadata": {},
   "outputs": [],
   "source": [
    "def func(a,b):\n",
    "    a = a * (251.106833/b)\n",
    "    return a\n",
    "df['adjusted'] = df.apply(lambda x: func(x['amount'],x['CPIAUCNS']), axis=1)"
   ]
  },
  {
   "cell_type": "markdown",
   "metadata": {},
   "source": [
    "Drop unnecessary inflation rate"
   ]
  },
  {
   "cell_type": "code",
   "execution_count": 24,
   "metadata": {},
   "outputs": [],
   "source": [
    "df.drop(df2.columns[6],axis=1,inplace=True)"
   ]
  },
  {
   "cell_type": "markdown",
   "metadata": {},
   "source": [
    "Save to csv"
   ]
  },
  {
   "cell_type": "code",
   "execution_count": 26,
   "metadata": {},
   "outputs": [],
   "source": [
    "df.to_csv('/Users/axelgarcia/Documents/CSE 184/usafec.nosync/Data/cleanDataWithPartiesInflation.csv', index=False)"
   ]
  }
 ],
 "metadata": {
  "kernelspec": {
   "display_name": "Python 3",
   "language": "python",
   "name": "python3"
  },
  "language_info": {
   "codemirror_mode": {
    "name": "ipython",
    "version": 3
   },
   "file_extension": ".py",
   "mimetype": "text/x-python",
   "name": "python",
   "nbconvert_exporter": "python",
   "pygments_lexer": "ipython3",
   "version": "3.7.4"
  }
 },
 "nbformat": 4,
 "nbformat_minor": 2
}